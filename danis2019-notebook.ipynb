{
 "cells": [
  {
   "cell_type": "markdown",
   "metadata": {},
   "source": [
    "# Danis 2019 Python supplement\n",
    "June 1, 2021\n",
    "\n",
    "Danis, Nick. 2019. [Long-distance major place harmony](https://doi.org/10.1017/S0952675719000307). *Phonology* 36.4. 573-604.\n",
    "\n",
    "This is intended as a supplement to Danis (2019). This notebook uses the same coded wordlist as the original article ([danis2019-word-list.csv](danis2019-word-list.csv)). Howevever, in the original article, the wordlist was manipulated in Excel to create the 2x2 contingency tables and these were then tested in R. Here, pandas is used to do all the manipulations in a clear and reproducible way, for posterity."
   ]
  },
  {
   "cell_type": "code",
   "execution_count": 1,
   "metadata": {},
   "outputs": [],
   "source": [
    "import pandas as pd\n",
    "import numpy as np\n",
    "import scipy\n",
    "import scipy.stats as stats\n",
    "from collections import defaultdict"
   ]
  },
  {
   "cell_type": "code",
   "execution_count": 2,
   "metadata": {},
   "outputs": [
    {
     "output_type": "execute_result",
     "data": {
      "text/plain": [
       "'1.4.1'"
      ]
     },
     "metadata": {},
     "execution_count": 2
    }
   ],
   "source": [
    "scipy.__version__"
   ]
  },
  {
   "cell_type": "markdown",
   "metadata": {},
   "source": [
    "## Helper functions"
   ]
  },
  {
   "cell_type": "code",
   "execution_count": 3,
   "metadata": {},
   "outputs": [],
   "source": [
    "def build_2x2(crosstab, c1, c2):\n",
    "    '''\n",
    "    builds a 2x2 contingency table (as a numpy array) from a larger crosstab df\n",
    "    '''\n",
    "    target = crosstab.loc[c1,c2]\n",
    "    c1_other = crosstab.loc[c1,'All'] - target\n",
    "    c2_other = crosstab.loc['All',c2] - target \n",
    "    all_other = crosstab.loc['All','All'] - target - c1_other - c2_other\n",
    "    obs = np.array([[target, c1_other],[c2_other, all_other]])\n",
    "    return obs"
   ]
  },
  {
   "cell_type": "code",
   "execution_count": 4,
   "metadata": {},
   "outputs": [],
   "source": [
    "places = ['lab','dor','cor','labdor']\n",
    "combos = [(c1, c2) for c1 in places for c2 in places if c1 == c2]\n",
    "combos.extend([(c1, c2) for c1 in ['labdor'] for c2 in ['lab','dor']])\n",
    "combos.extend([(c1, c2) for c1 in ['lab','dor'] for c2 in ['labdor']])\n",
    "\n",
    "def highlight(x):\n",
    "    '''styler function to highlight relevant cells'''\n",
    "    color = 'background-color: yellow; font-weight: bold'\n",
    "    df1 = pd.DataFrame('', index=x.index, columns=x.columns)\n",
    "    for x, y in combos:\n",
    "        df1.loc[x, y] = color\n",
    "    return df1\n",
    "    "
   ]
  },
  {
   "cell_type": "markdown",
   "metadata": {},
   "source": [
    "## Observed place values for all stop combinations"
   ]
  },
  {
   "cell_type": "code",
   "execution_count": 5,
   "metadata": {},
   "outputs": [
    {
     "output_type": "execute_result",
     "data": {
      "text/plain": [
       "       ID     IPA   POS Alt form  \\\n",
       "122  2282    duŋu  (v.)      NaN   \n",
       "329  2722  kɔ̀la̍  (s.)      NaN   \n",
       "651  3344   sanza  (v.)      NaN   \n",
       "479  3005  mɔ̃yɔ̃  (v.)      NaN   \n",
       "812  3633    yolo  (v.)      NaN   \n",
       "\n",
       "                                                   Def  \\\n",
       "122  rester, être, se trouver. Blijven, zijn, verbl...   \n",
       "329                                        poule. Hen.   \n",
       "651  pousser des rejetons (arbres, buissons) ; se m...   \n",
       "479  amincir, rétrécir ; s’amincir, se rétrécir, s’...   \n",
       "812     se trouver, être debout. Zich bevinden, staan.   \n",
       "\n",
       "                                                 defFr  \\\n",
       "122                           rester, être, se trouver   \n",
       "329                                              poule   \n",
       "651  pousser des rejetons (arbres, buissons) ; se m...   \n",
       "479  amincir, rétrécir ; s’amincir, se rétrécir, s’...   \n",
       "812                            se trouver, être debout   \n",
       "\n",
       "                                                 defDu  defEn C1 IPA C2 IPA  \\\n",
       "122                          Blijven, zijn, verblijven    NaN      d      ŋ   \n",
       "329                                                Hen    NaN      k      l   \n",
       "651  W ortelscheuten maken, nieuwe loten schieten; ...    NaN      s     nz   \n",
       "479  Verkleinen, dun maken, nauw maken; dun zijn, s...    NaN      m      y   \n",
       "812                               Zich bevinden, staan    NaN      y      l   \n",
       "\n",
       "     ...      Homorganic C1 Manner C2 Manner T-D N-ND D-ND KP-K T-N T-ND D-N  \n",
       "122  ...  non-homorganic         D         N  No   No   No   No  No   No  No  \n",
       "329  ...  non-homorganic         T     other  No   No   No   No  No   No  No  \n",
       "651  ...      homorganic     other     other  No   No   No   No  No   No  No  \n",
       "479  ...  non-homorganic         N     other  No   No   No   No  No   No  No  \n",
       "812  ...      homorganic     other     other  No   No   No   No  No   No  No  \n",
       "\n",
       "[5 rows x 24 columns]"
      ],
      "text/html": "<div>\n<style scoped>\n    .dataframe tbody tr th:only-of-type {\n        vertical-align: middle;\n    }\n\n    .dataframe tbody tr th {\n        vertical-align: top;\n    }\n\n    .dataframe thead th {\n        text-align: right;\n    }\n</style>\n<table border=\"1\" class=\"dataframe\">\n  <thead>\n    <tr style=\"text-align: right;\">\n      <th></th>\n      <th>ID</th>\n      <th>IPA</th>\n      <th>POS</th>\n      <th>Alt form</th>\n      <th>Def</th>\n      <th>defFr</th>\n      <th>defDu</th>\n      <th>defEn</th>\n      <th>C1 IPA</th>\n      <th>C2 IPA</th>\n      <th>...</th>\n      <th>Homorganic</th>\n      <th>C1 Manner</th>\n      <th>C2 Manner</th>\n      <th>T-D</th>\n      <th>N-ND</th>\n      <th>D-ND</th>\n      <th>KP-K</th>\n      <th>T-N</th>\n      <th>T-ND</th>\n      <th>D-N</th>\n    </tr>\n  </thead>\n  <tbody>\n    <tr>\n      <th>122</th>\n      <td>2282</td>\n      <td>duŋu</td>\n      <td>(v.)</td>\n      <td>NaN</td>\n      <td>rester, être, se trouver. Blijven, zijn, verbl...</td>\n      <td>rester, être, se trouver</td>\n      <td>Blijven, zijn, verblijven</td>\n      <td>NaN</td>\n      <td>d</td>\n      <td>ŋ</td>\n      <td>...</td>\n      <td>non-homorganic</td>\n      <td>D</td>\n      <td>N</td>\n      <td>No</td>\n      <td>No</td>\n      <td>No</td>\n      <td>No</td>\n      <td>No</td>\n      <td>No</td>\n      <td>No</td>\n    </tr>\n    <tr>\n      <th>329</th>\n      <td>2722</td>\n      <td>kɔ̀la̍</td>\n      <td>(s.)</td>\n      <td>NaN</td>\n      <td>poule. Hen.</td>\n      <td>poule</td>\n      <td>Hen</td>\n      <td>NaN</td>\n      <td>k</td>\n      <td>l</td>\n      <td>...</td>\n      <td>non-homorganic</td>\n      <td>T</td>\n      <td>other</td>\n      <td>No</td>\n      <td>No</td>\n      <td>No</td>\n      <td>No</td>\n      <td>No</td>\n      <td>No</td>\n      <td>No</td>\n    </tr>\n    <tr>\n      <th>651</th>\n      <td>3344</td>\n      <td>sanza</td>\n      <td>(v.)</td>\n      <td>NaN</td>\n      <td>pousser des rejetons (arbres, buissons) ; se m...</td>\n      <td>pousser des rejetons (arbres, buissons) ; se m...</td>\n      <td>W ortelscheuten maken, nieuwe loten schieten; ...</td>\n      <td>NaN</td>\n      <td>s</td>\n      <td>nz</td>\n      <td>...</td>\n      <td>homorganic</td>\n      <td>other</td>\n      <td>other</td>\n      <td>No</td>\n      <td>No</td>\n      <td>No</td>\n      <td>No</td>\n      <td>No</td>\n      <td>No</td>\n      <td>No</td>\n    </tr>\n    <tr>\n      <th>479</th>\n      <td>3005</td>\n      <td>mɔ̃yɔ̃</td>\n      <td>(v.)</td>\n      <td>NaN</td>\n      <td>amincir, rétrécir ; s’amincir, se rétrécir, s’...</td>\n      <td>amincir, rétrécir ; s’amincir, se rétrécir, s’...</td>\n      <td>Verkleinen, dun maken, nauw maken; dun zijn, s...</td>\n      <td>NaN</td>\n      <td>m</td>\n      <td>y</td>\n      <td>...</td>\n      <td>non-homorganic</td>\n      <td>N</td>\n      <td>other</td>\n      <td>No</td>\n      <td>No</td>\n      <td>No</td>\n      <td>No</td>\n      <td>No</td>\n      <td>No</td>\n      <td>No</td>\n    </tr>\n    <tr>\n      <th>812</th>\n      <td>3633</td>\n      <td>yolo</td>\n      <td>(v.)</td>\n      <td>NaN</td>\n      <td>se trouver, être debout. Zich bevinden, staan.</td>\n      <td>se trouver, être debout</td>\n      <td>Zich bevinden, staan</td>\n      <td>NaN</td>\n      <td>y</td>\n      <td>l</td>\n      <td>...</td>\n      <td>homorganic</td>\n      <td>other</td>\n      <td>other</td>\n      <td>No</td>\n      <td>No</td>\n      <td>No</td>\n      <td>No</td>\n      <td>No</td>\n      <td>No</td>\n      <td>No</td>\n    </tr>\n  </tbody>\n</table>\n<p>5 rows × 24 columns</p>\n</div>"
     },
     "metadata": {},
     "execution_count": 5
    }
   ],
   "source": [
    "df = pd.read_csv('danis2019-word-list.csv')\n",
    "\n",
    "df.sample(5)"
   ]
  },
  {
   "cell_type": "code",
   "execution_count": 6,
   "metadata": {},
   "outputs": [
    {
     "output_type": "execute_result",
     "data": {
      "text/plain": [
       "<pandas.io.formats.style.Styler at 0x286ff282608>"
      ],
      "text/html": "<style  type=\"text/css\" >\n#T_e10a2_row0_col0,#T_e10a2_row1_col1,#T_e10a2_row1_col3,#T_e10a2_row2_col2,#T_e10a2_row2_col3,#T_e10a2_row3_col1,#T_e10a2_row3_col2,#T_e10a2_row3_col3{\n            background-color:  yellow;\n             font-weight:  bold;\n        }</style><table id=\"T_e10a2_\" ><thead>    <tr>        <th class=\"index_name level0\" >C2 place</th>        <th class=\"col_heading level0 col0\" >cor</th>        <th class=\"col_heading level0 col1\" >dor</th>        <th class=\"col_heading level0 col2\" >lab</th>        <th class=\"col_heading level0 col3\" >labdor</th>        <th class=\"col_heading level0 col4\" >other</th>        <th class=\"col_heading level0 col5\" >All</th>    </tr>    <tr>        <th class=\"index_name level0\" >C1 place</th>        <th class=\"blank\" ></th>        <th class=\"blank\" ></th>        <th class=\"blank\" ></th>        <th class=\"blank\" ></th>        <th class=\"blank\" ></th>        <th class=\"blank\" ></th>    </tr></thead><tbody>\n                <tr>\n                        <th id=\"T_e10a2_level0_row0\" class=\"row_heading level0 row0\" >cor</th>\n                        <td id=\"T_e10a2_row0_col0\" class=\"data row0 col0\" >28</td>\n                        <td id=\"T_e10a2_row0_col1\" class=\"data row0 col1\" >34</td>\n                        <td id=\"T_e10a2_row0_col2\" class=\"data row0 col2\" >17</td>\n                        <td id=\"T_e10a2_row0_col3\" class=\"data row0 col3\" >11</td>\n                        <td id=\"T_e10a2_row0_col4\" class=\"data row0 col4\" >70</td>\n                        <td id=\"T_e10a2_row0_col5\" class=\"data row0 col5\" >160</td>\n            </tr>\n            <tr>\n                        <th id=\"T_e10a2_level0_row1\" class=\"row_heading level0 row1\" >dor</th>\n                        <td id=\"T_e10a2_row1_col0\" class=\"data row1 col0\" >43</td>\n                        <td id=\"T_e10a2_row1_col1\" class=\"data row1 col1\" >26</td>\n                        <td id=\"T_e10a2_row1_col2\" class=\"data row1 col2\" >27</td>\n                        <td id=\"T_e10a2_row1_col3\" class=\"data row1 col3\" >1</td>\n                        <td id=\"T_e10a2_row1_col4\" class=\"data row1 col4\" >105</td>\n                        <td id=\"T_e10a2_row1_col5\" class=\"data row1 col5\" >202</td>\n            </tr>\n            <tr>\n                        <th id=\"T_e10a2_level0_row2\" class=\"row_heading level0 row2\" >lab</th>\n                        <td id=\"T_e10a2_row2_col0\" class=\"data row2 col0\" >33</td>\n                        <td id=\"T_e10a2_row2_col1\" class=\"data row2 col1\" >31</td>\n                        <td id=\"T_e10a2_row2_col2\" class=\"data row2 col2\" >12</td>\n                        <td id=\"T_e10a2_row2_col3\" class=\"data row2 col3\" >0</td>\n                        <td id=\"T_e10a2_row2_col4\" class=\"data row2 col4\" >76</td>\n                        <td id=\"T_e10a2_row2_col5\" class=\"data row2 col5\" >152</td>\n            </tr>\n            <tr>\n                        <th id=\"T_e10a2_level0_row3\" class=\"row_heading level0 row3\" >labdor</th>\n                        <td id=\"T_e10a2_row3_col0\" class=\"data row3 col0\" >15</td>\n                        <td id=\"T_e10a2_row3_col1\" class=\"data row3 col1\" >13</td>\n                        <td id=\"T_e10a2_row3_col2\" class=\"data row3 col2\" >2</td>\n                        <td id=\"T_e10a2_row3_col3\" class=\"data row3 col3\" >11</td>\n                        <td id=\"T_e10a2_row3_col4\" class=\"data row3 col4\" >45</td>\n                        <td id=\"T_e10a2_row3_col5\" class=\"data row3 col5\" >86</td>\n            </tr>\n            <tr>\n                        <th id=\"T_e10a2_level0_row4\" class=\"row_heading level0 row4\" >other</th>\n                        <td id=\"T_e10a2_row4_col0\" class=\"data row4 col0\" >37</td>\n                        <td id=\"T_e10a2_row4_col1\" class=\"data row4 col1\" >67</td>\n                        <td id=\"T_e10a2_row4_col2\" class=\"data row4 col2\" >35</td>\n                        <td id=\"T_e10a2_row4_col3\" class=\"data row4 col3\" >14</td>\n                        <td id=\"T_e10a2_row4_col4\" class=\"data row4 col4\" >127</td>\n                        <td id=\"T_e10a2_row4_col5\" class=\"data row4 col5\" >280</td>\n            </tr>\n            <tr>\n                        <th id=\"T_e10a2_level0_row5\" class=\"row_heading level0 row5\" >All</th>\n                        <td id=\"T_e10a2_row5_col0\" class=\"data row5 col0\" >156</td>\n                        <td id=\"T_e10a2_row5_col1\" class=\"data row5 col1\" >171</td>\n                        <td id=\"T_e10a2_row5_col2\" class=\"data row5 col2\" >93</td>\n                        <td id=\"T_e10a2_row5_col3\" class=\"data row5 col3\" >37</td>\n                        <td id=\"T_e10a2_row5_col4\" class=\"data row5 col4\" >423</td>\n                        <td id=\"T_e10a2_row5_col5\" class=\"data row5 col5\" >880</td>\n            </tr>\n    </tbody></table>"
     },
     "metadata": {},
     "execution_count": 6
    }
   ],
   "source": [
    "stops = pd.crosstab(df['C1 place'],\n",
    "                    df['C2 place'],\n",
    "                    margins=True)\n",
    "stops.style.apply(highlight,axis=None)"
   ]
  },
  {
   "cell_type": "markdown",
   "metadata": {},
   "source": [
    "## O/E place values for all stop combinations"
   ]
  },
  {
   "cell_type": "code",
   "execution_count": 7,
   "metadata": {},
   "outputs": [
    {
     "output_type": "execute_result",
     "data": {
      "text/plain": [
       "<pandas.io.formats.style.Styler at 0x2869b3d7b08>"
      ],
      "text/html": "<style  type=\"text/css\" >\n#T_ebd0b_row0_col0{\n            background-color:  #fffff3;\n            color:  #000000;\n        }#T_ebd0b_row0_col1,#T_ebd0b_row0_col2,#T_ebd0b_row0_col3,#T_ebd0b_row0_col5,#T_ebd0b_row1_col0,#T_ebd0b_row1_col2,#T_ebd0b_row1_col4,#T_ebd0b_row1_col5,#T_ebd0b_row2_col0,#T_ebd0b_row2_col1,#T_ebd0b_row2_col4,#T_ebd0b_row2_col5,#T_ebd0b_row3_col3,#T_ebd0b_row3_col4,#T_ebd0b_row3_col5,#T_ebd0b_row4_col1,#T_ebd0b_row4_col2,#T_ebd0b_row4_col3,#T_ebd0b_row4_col5,#T_ebd0b_row5_col0,#T_ebd0b_row5_col1,#T_ebd0b_row5_col2,#T_ebd0b_row5_col3,#T_ebd0b_row5_col4,#T_ebd0b_row5_col5{\n            background-color:  #ffffff;\n            color:  #000000;\n        }#T_ebd0b_row0_col4{\n            background-color:  #ffffa8;\n            color:  #000000;\n        }#T_ebd0b_row1_col1{\n            background-color:  #ffc700;\n            color:  #000000;\n        }#T_ebd0b_row1_col3{\n            background-color:  #590000;\n            color:  #f1f1f1;\n        }#T_ebd0b_row2_col2{\n            background-color:  #ffff03;\n            color:  #000000;\n        }#T_ebd0b_row2_col3{\n            background-color:  #0b0000;\n            color:  #f1f1f1;\n        }#T_ebd0b_row3_col0{\n            background-color:  #ffffef;\n            color:  #000000;\n        }#T_ebd0b_row3_col1{\n            background-color:  #ffff22;\n            color:  #000000;\n        }#T_ebd0b_row3_col2{\n            background-color:  #9e0000;\n            color:  #f1f1f1;\n        }#T_ebd0b_row4_col0{\n            background-color:  #fffe00;\n            color:  #000000;\n        }#T_ebd0b_row4_col4{\n            background-color:  #ffffc8;\n            color:  #000000;\n        }</style><table id=\"T_ebd0b_\" ><thead>    <tr>        <th class=\"index_name level0\" >C2 place</th>        <th class=\"col_heading level0 col0\" >cor</th>        <th class=\"col_heading level0 col1\" >dor</th>        <th class=\"col_heading level0 col2\" >lab</th>        <th class=\"col_heading level0 col3\" >labdor</th>        <th class=\"col_heading level0 col4\" >other</th>        <th class=\"col_heading level0 col5\" >All</th>    </tr>    <tr>        <th class=\"index_name level0\" >C1 place</th>        <th class=\"blank\" ></th>        <th class=\"blank\" ></th>        <th class=\"blank\" ></th>        <th class=\"blank\" ></th>        <th class=\"blank\" ></th>        <th class=\"blank\" ></th>    </tr></thead><tbody>\n                <tr>\n                        <th id=\"T_ebd0b_level0_row0\" class=\"row_heading level0 row0\" >cor</th>\n                        <td id=\"T_ebd0b_row0_col0\" class=\"data row0 col0\" >0.987179</td>\n                        <td id=\"T_ebd0b_row0_col1\" class=\"data row0 col1\" >1.093567</td>\n                        <td id=\"T_ebd0b_row0_col2\" class=\"data row0 col2\" >1.005376</td>\n                        <td id=\"T_ebd0b_row0_col3\" class=\"data row0 col3\" >1.635135</td>\n                        <td id=\"T_ebd0b_row0_col4\" class=\"data row0 col4\" >0.910165</td>\n                        <td id=\"T_ebd0b_row0_col5\" class=\"data row0 col5\" >1.000000</td>\n            </tr>\n            <tr>\n                        <th id=\"T_ebd0b_level0_row1\" class=\"row_heading level0 row1\" >dor</th>\n                        <td id=\"T_ebd0b_row1_col0\" class=\"data row1 col0\" >1.200812</td>\n                        <td id=\"T_ebd0b_row1_col1\" class=\"data row1 col1\" >0.662382</td>\n                        <td id=\"T_ebd0b_row1_col2\" class=\"data row1 col2\" >1.264772</td>\n                        <td id=\"T_ebd0b_row1_col3\" class=\"data row1 col3\" >0.117742</td>\n                        <td id=\"T_ebd0b_row1_col4\" class=\"data row1 col4\" >1.081385</td>\n                        <td id=\"T_ebd0b_row1_col5\" class=\"data row1 col5\" >1.000000</td>\n            </tr>\n            <tr>\n                        <th id=\"T_ebd0b_level0_row2\" class=\"row_heading level0 row2\" >lab</th>\n                        <td id=\"T_ebd0b_row2_col0\" class=\"data row2 col0\" >1.224696</td>\n                        <td id=\"T_ebd0b_row2_col1\" class=\"data row2 col1\" >1.049554</td>\n                        <td id=\"T_ebd0b_row2_col2\" class=\"data row2 col2\" >0.747029</td>\n                        <td id=\"T_ebd0b_row2_col3\" class=\"data row2 col3\" >0.000000</td>\n                        <td id=\"T_ebd0b_row2_col4\" class=\"data row2 col4\" >1.040189</td>\n                        <td id=\"T_ebd0b_row2_col5\" class=\"data row2 col5\" >1.000000</td>\n            </tr>\n            <tr>\n                        <th id=\"T_ebd0b_level0_row3\" class=\"row_heading level0 row3\" >labdor</th>\n                        <td id=\"T_ebd0b_row3_col0\" class=\"data row3 col0\" >0.983900</td>\n                        <td id=\"T_ebd0b_row3_col1\" class=\"data row3 col1\" >0.777914</td>\n                        <td id=\"T_ebd0b_row3_col2\" class=\"data row3 col2\" >0.220055</td>\n                        <td id=\"T_ebd0b_row3_col3\" class=\"data row3 col3\" >3.042112</td>\n                        <td id=\"T_ebd0b_row3_col4\" class=\"data row3 col4\" >1.088570</td>\n                        <td id=\"T_ebd0b_row3_col5\" class=\"data row3 col5\" >1.000000</td>\n            </tr>\n            <tr>\n                        <th id=\"T_ebd0b_level0_row4\" class=\"row_heading level0 row4\" >other</th>\n                        <td id=\"T_ebd0b_row4_col0\" class=\"data row4 col0\" >0.745421</td>\n                        <td id=\"T_ebd0b_row4_col1\" class=\"data row4 col1\" >1.231412</td>\n                        <td id=\"T_ebd0b_row4_col2\" class=\"data row4 col2\" >1.182796</td>\n                        <td id=\"T_ebd0b_row4_col3\" class=\"data row4 col3\" >1.189189</td>\n                        <td id=\"T_ebd0b_row4_col4\" class=\"data row4 col4\" >0.943600</td>\n                        <td id=\"T_ebd0b_row4_col5\" class=\"data row4 col5\" >1.000000</td>\n            </tr>\n            <tr>\n                        <th id=\"T_ebd0b_level0_row5\" class=\"row_heading level0 row5\" >All</th>\n                        <td id=\"T_ebd0b_row5_col0\" class=\"data row5 col0\" >1.000000</td>\n                        <td id=\"T_ebd0b_row5_col1\" class=\"data row5 col1\" >1.000000</td>\n                        <td id=\"T_ebd0b_row5_col2\" class=\"data row5 col2\" >1.000000</td>\n                        <td id=\"T_ebd0b_row5_col3\" class=\"data row5 col3\" >1.000000</td>\n                        <td id=\"T_ebd0b_row5_col4\" class=\"data row5 col4\" >1.000000</td>\n                        <td id=\"T_ebd0b_row5_col5\" class=\"data row5 col5\" >1.000000</td>\n            </tr>\n    </tbody></table>"
     },
     "metadata": {},
     "execution_count": 7
    }
   ],
   "source": [
    "obs = stops.to_numpy()\n",
    "exp = stats.chi2_contingency(stops)[3]\n",
    "oe_ratios = pd.DataFrame(obs / exp, columns = stops.columns, index=stops.index)\n",
    "oe_ratios.style.background_gradient(cmap ='hot',axis=None,vmax=1.0)"
   ]
  },
  {
   "cell_type": "markdown",
   "metadata": {},
   "source": [
    "## Testing individual place combinations\n",
    "\n",
    "### Results"
   ]
  },
  {
   "cell_type": "code",
   "execution_count": 8,
   "metadata": {},
   "outputs": [
    {
     "output_type": "stream",
     "name": "stdout",
     "text": [
      "alpha of 0.05 adjusted for 8 comparisons = 0.0062\n"
     ]
    },
    {
     "output_type": "execute_result",
     "data": {
      "text/plain": [
       "<pandas.io.formats.style.Styler at 0x2869a090688>"
      ],
      "text/html": "<style  type=\"text/css\" >\n#T_5cc34_row0_col2,#T_5cc34_row0_col3,#T_5cc34_row0_col4,#T_5cc34_row0_col5,#T_5cc34_row0_col6,#T_5cc34_row0_col7,#T_5cc34_row1_col2,#T_5cc34_row1_col3,#T_5cc34_row1_col4,#T_5cc34_row1_col5,#T_5cc34_row1_col6,#T_5cc34_row1_col7,#T_5cc34_row2_col2,#T_5cc34_row2_col3,#T_5cc34_row2_col4,#T_5cc34_row2_col5,#T_5cc34_row2_col6,#T_5cc34_row2_col7,#T_5cc34_row3_col2,#T_5cc34_row3_col3,#T_5cc34_row3_col6,#T_5cc34_row3_col7,#T_5cc34_row4_col2,#T_5cc34_row4_col3,#T_5cc34_row4_col5,#T_5cc34_row4_col6,#T_5cc34_row4_col7,#T_5cc34_row5_col2,#T_5cc34_row5_col3,#T_5cc34_row5_col4,#T_5cc34_row5_col5,#T_5cc34_row5_col6,#T_5cc34_row5_col7,#T_5cc34_row6_col3,#T_5cc34_row6_col5,#T_5cc34_row6_col6,#T_5cc34_row7_col2,#T_5cc34_row7_col3,#T_5cc34_row7_col6,#T_5cc34_row7_col7{\n            background-color:  #fff5f0;\n            color:  #000000;\n        }#T_5cc34_row3_col4{\n            background-color:  #880811;\n            color:  #f1f1f1;\n        }#T_5cc34_row3_col5{\n            background-color:  #6f020e;\n            color:  #f1f1f1;\n        }#T_5cc34_row4_col4{\n            background-color:  #fdcebb;\n            color:  #000000;\n        }#T_5cc34_row6_col2,#T_5cc34_row6_col7{\n            background-color:  #67000d;\n            color:  #f1f1f1;\n        }#T_5cc34_row6_col4{\n            background-color:  #be151a;\n            color:  #f1f1f1;\n        }#T_5cc34_row7_col4{\n            background-color:  #b21218;\n            color:  #f1f1f1;\n        }#T_5cc34_row7_col5{\n            background-color:  #fdd4c2;\n            color:  #000000;\n        }</style><table id=\"T_5cc34_\" ><thead>    <tr>        <th class=\"blank level0\" ></th>        <th class=\"col_heading level0 col0\" >c1</th>        <th class=\"col_heading level0 col1\" >c2</th>        <th class=\"col_heading level0 col2\" >obs</th>        <th class=\"col_heading level0 col3\" >exp</th>        <th class=\"col_heading level0 col4\" >fisher p</th>        <th class=\"col_heading level0 col5\" >chi^2 p</th>        <th class=\"col_heading level0 col6\" >alpha</th>        <th class=\"col_heading level0 col7\" >o/e</th>        <th class=\"col_heading level0 col8\" >fisher sig</th>        <th class=\"col_heading level0 col9\" >chi^2 sig</th>    </tr></thead><tbody>\n                <tr>\n                        <th id=\"T_5cc34_level0_row0\" class=\"row_heading level0 row0\" >0</th>\n                        <td id=\"T_5cc34_row0_col0\" class=\"data row0 col0\" >lab</td>\n                        <td id=\"T_5cc34_row0_col1\" class=\"data row0 col1\" >lab</td>\n                        <td id=\"T_5cc34_row0_col2\" class=\"data row0 col2\" >12</td>\n                        <td id=\"T_5cc34_row0_col3\" class=\"data row0 col3\" >16.063636</td>\n                        <td id=\"T_5cc34_row0_col4\" class=\"data row0 col4\" >0.309155</td>\n                        <td id=\"T_5cc34_row0_col5\" class=\"data row0 col5\" >0.301269</td>\n                        <td id=\"T_5cc34_row0_col6\" class=\"data row0 col6\" >0.006250</td>\n                        <td id=\"T_5cc34_row0_col7\" class=\"data row0 col7\" >0.747029</td>\n                        <td id=\"T_5cc34_row0_col8\" class=\"data row0 col8\" >False</td>\n                        <td id=\"T_5cc34_row0_col9\" class=\"data row0 col9\" >False</td>\n            </tr>\n            <tr>\n                        <th id=\"T_5cc34_level0_row1\" class=\"row_heading level0 row1\" >1</th>\n                        <td id=\"T_5cc34_row1_col0\" class=\"data row1 col0\" >dor</td>\n                        <td id=\"T_5cc34_row1_col1\" class=\"data row1 col1\" >dor</td>\n                        <td id=\"T_5cc34_row1_col2\" class=\"data row1 col2\" >26</td>\n                        <td id=\"T_5cc34_row1_col3\" class=\"data row1 col3\" >39.252273</td>\n                        <td id=\"T_5cc34_row1_col4\" class=\"data row1 col4\" >0.006298</td>\n                        <td id=\"T_5cc34_row1_col5\" class=\"data row1 col5\" >0.009782</td>\n                        <td id=\"T_5cc34_row1_col6\" class=\"data row1 col6\" >0.006250</td>\n                        <td id=\"T_5cc34_row1_col7\" class=\"data row1 col7\" >0.662382</td>\n                        <td id=\"T_5cc34_row1_col8\" class=\"data row1 col8\" >False</td>\n                        <td id=\"T_5cc34_row1_col9\" class=\"data row1 col9\" >False</td>\n            </tr>\n            <tr>\n                        <th id=\"T_5cc34_level0_row2\" class=\"row_heading level0 row2\" >2</th>\n                        <td id=\"T_5cc34_row2_col0\" class=\"data row2 col0\" >cor</td>\n                        <td id=\"T_5cc34_row2_col1\" class=\"data row2 col1\" >cor</td>\n                        <td id=\"T_5cc34_row2_col2\" class=\"data row2 col2\" >28</td>\n                        <td id=\"T_5cc34_row2_col3\" class=\"data row2 col3\" >28.363636</td>\n                        <td id=\"T_5cc34_row2_col4\" class=\"data row2 col4\" >1.000000</td>\n                        <td id=\"T_5cc34_row2_col5\" class=\"data row2 col5\" >0.975104</td>\n                        <td id=\"T_5cc34_row2_col6\" class=\"data row2 col6\" >0.006250</td>\n                        <td id=\"T_5cc34_row2_col7\" class=\"data row2 col7\" >0.987179</td>\n                        <td id=\"T_5cc34_row2_col8\" class=\"data row2 col8\" >False</td>\n                        <td id=\"T_5cc34_row2_col9\" class=\"data row2 col9\" >False</td>\n            </tr>\n            <tr>\n                        <th id=\"T_5cc34_level0_row3\" class=\"row_heading level0 row3\" >3</th>\n                        <td id=\"T_5cc34_row3_col0\" class=\"data row3 col0\" >labdor</td>\n                        <td id=\"T_5cc34_row3_col1\" class=\"data row3 col1\" >labdor</td>\n                        <td id=\"T_5cc34_row3_col2\" class=\"data row3 col2\" >11</td>\n                        <td id=\"T_5cc34_row3_col3\" class=\"data row3 col3\" >3.615909</td>\n                        <td id=\"T_5cc34_row3_col4\" class=\"data row3 col4\" >0.000421</td>\n                        <td id=\"T_5cc34_row3_col5\" class=\"data row3 col5\" >0.000099</td>\n                        <td id=\"T_5cc34_row3_col6\" class=\"data row3 col6\" >0.006250</td>\n                        <td id=\"T_5cc34_row3_col7\" class=\"data row3 col7\" >3.042112</td>\n                        <td id=\"T_5cc34_row3_col8\" class=\"data row3 col8\" >True</td>\n                        <td id=\"T_5cc34_row3_col9\" class=\"data row3 col9\" >True</td>\n            </tr>\n            <tr>\n                        <th id=\"T_5cc34_level0_row4\" class=\"row_heading level0 row4\" >4</th>\n                        <td id=\"T_5cc34_row4_col0\" class=\"data row4 col0\" >labdor</td>\n                        <td id=\"T_5cc34_row4_col1\" class=\"data row4 col1\" >lab</td>\n                        <td id=\"T_5cc34_row4_col2\" class=\"data row4 col2\" >2</td>\n                        <td id=\"T_5cc34_row4_col3\" class=\"data row4 col3\" >9.088636</td>\n                        <td id=\"T_5cc34_row4_col4\" class=\"data row4 col4\" >0.005082</td>\n                        <td id=\"T_5cc34_row4_col5\" class=\"data row4 col5\" >0.014977</td>\n                        <td id=\"T_5cc34_row4_col6\" class=\"data row4 col6\" >0.006250</td>\n                        <td id=\"T_5cc34_row4_col7\" class=\"data row4 col7\" >0.220055</td>\n                        <td id=\"T_5cc34_row4_col8\" class=\"data row4 col8\" >True</td>\n                        <td id=\"T_5cc34_row4_col9\" class=\"data row4 col9\" >False</td>\n            </tr>\n            <tr>\n                        <th id=\"T_5cc34_level0_row5\" class=\"row_heading level0 row5\" >5</th>\n                        <td id=\"T_5cc34_row5_col0\" class=\"data row5 col0\" >labdor</td>\n                        <td id=\"T_5cc34_row5_col1\" class=\"data row5 col1\" >dor</td>\n                        <td id=\"T_5cc34_row5_col2\" class=\"data row5 col2\" >13</td>\n                        <td id=\"T_5cc34_row5_col3\" class=\"data row5 col3\" >16.711364</td>\n                        <td id=\"T_5cc34_row5_col4\" class=\"data row5 col4\" >0.318467</td>\n                        <td id=\"T_5cc34_row5_col5\" class=\"data row5 col5\" >0.356859</td>\n                        <td id=\"T_5cc34_row5_col6\" class=\"data row5 col6\" >0.006250</td>\n                        <td id=\"T_5cc34_row5_col7\" class=\"data row5 col7\" >0.777914</td>\n                        <td id=\"T_5cc34_row5_col8\" class=\"data row5 col8\" >False</td>\n                        <td id=\"T_5cc34_row5_col9\" class=\"data row5 col9\" >False</td>\n            </tr>\n            <tr>\n                        <th id=\"T_5cc34_level0_row6\" class=\"row_heading level0 row6\" >6</th>\n                        <td id=\"T_5cc34_row6_col0\" class=\"data row6 col0\" >lab</td>\n                        <td id=\"T_5cc34_row6_col1\" class=\"data row6 col1\" >labdor</td>\n                        <td id=\"T_5cc34_row6_col2\" class=\"data row6 col2\" >0</td>\n                        <td id=\"T_5cc34_row6_col3\" class=\"data row6 col3\" >6.390909</td>\n                        <td id=\"T_5cc34_row6_col4\" class=\"data row6 col4\" >0.001304</td>\n                        <td id=\"T_5cc34_row6_col5\" class=\"data row6 col5\" >0.008855</td>\n                        <td id=\"T_5cc34_row6_col6\" class=\"data row6 col6\" >0.006250</td>\n                        <td id=\"T_5cc34_row6_col7\" class=\"data row6 col7\" >0.000000</td>\n                        <td id=\"T_5cc34_row6_col8\" class=\"data row6 col8\" >True</td>\n                        <td id=\"T_5cc34_row6_col9\" class=\"data row6 col9\" >False</td>\n            </tr>\n            <tr>\n                        <th id=\"T_5cc34_level0_row7\" class=\"row_heading level0 row7\" >7</th>\n                        <td id=\"T_5cc34_row7_col0\" class=\"data row7 col0\" >dor</td>\n                        <td id=\"T_5cc34_row7_col1\" class=\"data row7 col1\" >labdor</td>\n                        <td id=\"T_5cc34_row7_col2\" class=\"data row7 col2\" >1</td>\n                        <td id=\"T_5cc34_row7_col3\" class=\"data row7 col3\" >8.493182</td>\n                        <td id=\"T_5cc34_row7_col4\" class=\"data row7 col4\" >0.001054</td>\n                        <td id=\"T_5cc34_row7_col5\" class=\"data row7 col5\" >0.005220</td>\n                        <td id=\"T_5cc34_row7_col6\" class=\"data row7 col6\" >0.006250</td>\n                        <td id=\"T_5cc34_row7_col7\" class=\"data row7 col7\" >0.117742</td>\n                        <td id=\"T_5cc34_row7_col8\" class=\"data row7 col8\" >True</td>\n                        <td id=\"T_5cc34_row7_col9\" class=\"data row7 col9\" >True</td>\n            </tr>\n    </tbody></table>"
     },
     "metadata": {},
     "execution_count": 8
    }
   ],
   "source": [
    "# this will test all homorganic and semihomorganic place combinations against each other\n",
    "places = ['lab','dor','cor','labdor']\n",
    "combos = [(c1, c2) for c1 in places for c2 in places if c1 == c2]\n",
    "combos.extend([(c1, c2) for c1 in ['labdor'] for c2 in ['lab','dor']])\n",
    "combos.extend([(c1, c2) for c1 in ['lab','dor'] for c2 in ['labdor']])\n",
    "\n",
    "comparisons = len(combos)\n",
    "alpha = 0.05/comparisons\n",
    "\n",
    "results = defaultdict(list)\n",
    "\n",
    "for c1, c2 in combos:\n",
    "    obs = build_2x2(stops,c1,c2)\n",
    "    fisher_results = stats.fisher_exact(obs)\n",
    "    chi_results = stats.chi2_contingency(obs)\n",
    "    results['c1'].append(c1)\n",
    "    results['c2'].append(c2)\n",
    "    results['obs'].append(obs[0,0])\n",
    "    results['exp'].append(chi_results[3][0,0])\n",
    "    results['fisher p'].append(fisher_results[1])\n",
    "    results['chi^2 p'].append(chi_results[1])\n",
    "    results['alpha'].append(alpha)\n",
    "    \n",
    "place_results = pd.DataFrame(results)\n",
    "place_results['o/e'] = place_results['obs'] / place_results['exp'] \n",
    "place_results['fisher sig'] = place_results['fisher p'].apply(lambda x: True if x < alpha else False)\n",
    "place_results['chi^2 sig'] = place_results['chi^2 p'].apply(lambda x: True if x < alpha else False)\n",
    "\n",
    "print(f\"alpha of 0.05 adjusted for {len(combos)} comparisons = {np.round(alpha,4)}\")\n",
    "place_results.style.background_gradient(cmap ='Reds_r',axis=None,vmax=alpha)"
   ]
  },
  {
   "cell_type": "markdown",
   "metadata": {},
   "source": [
    "### Words"
   ]
  },
  {
   "cell_type": "markdown",
   "metadata": {},
   "source": [
    "#### labial-labial"
   ]
  },
  {
   "cell_type": "code",
   "execution_count": 9,
   "metadata": {},
   "outputs": [
    {
     "output_type": "execute_result",
     "data": {
      "text/plain": [
       "       ID       IPA        POS             Alt form  \\\n",
       "0    2064     bàbá  (s. voc.)                  NaN   \n",
       "1    2065    ’ba’ba       (v.)                  NaN   \n",
       "8    2075     ’bama       (v.)                  NaN   \n",
       "9    2076    bàmbú       (s.)                  NaN   \n",
       "52   2155    bɔ̀bá  (s. cfr.)                  NaN   \n",
       "58   2161     ’bɔmɔ       (v.)                  NaN   \n",
       "431  2910  mbá’bó-       (s.)        mbá’bó kɔ̃̀    \n",
       "454  2951   mbɔ́bì       (s.)                  NaN   \n",
       "477  2993      mɔmɔ       (v.)                  NaN   \n",
       "478  2994     mɔ̀mù       (s.)  màmù ; tè dò mòmù   \n",
       "627  3300      pɛpɛ       (v.)                  NaN   \n",
       "630  3309     pumbu       (v.)                  NaN   \n",
       "\n",
       "                                                   Def  \n",
       "0                                       père ! Vader !  \n",
       "1    tordre, être tordu. Tot wrong draaien of rolle...  \n",
       "8                serrer, pincer. Knijpen, vastknellen.  \n",
       "9    ceinture large des mVres aprVs l’enfantement. ...  \n",
       "52                                       papa ! Vader!  \n",
       "58   serrer, pincer ; être serré, être pincé. Toekn...  \n",
       "431  , : fosse pour prendre des animaux. Valput voo...  \n",
       "454   : rotin mince dônnant des liens forts. Dunne ...  \n",
       "477             rire; se moquer de. Lachen, uitlachen.  \n",
       "478   : éclater de rire. In lach uitbarsten, schate...  \n",
       "627  vanner, activer en faisant du vent. Wannen, aa...  \n",
       "630      être vide, être creux. Loos zijn, ledig zijn.  "
      ],
      "text/html": "<div>\n<style scoped>\n    .dataframe tbody tr th:only-of-type {\n        vertical-align: middle;\n    }\n\n    .dataframe tbody tr th {\n        vertical-align: top;\n    }\n\n    .dataframe thead th {\n        text-align: right;\n    }\n</style>\n<table border=\"1\" class=\"dataframe\">\n  <thead>\n    <tr style=\"text-align: right;\">\n      <th></th>\n      <th>ID</th>\n      <th>IPA</th>\n      <th>POS</th>\n      <th>Alt form</th>\n      <th>Def</th>\n    </tr>\n  </thead>\n  <tbody>\n    <tr>\n      <th>0</th>\n      <td>2064</td>\n      <td>bàbá</td>\n      <td>(s. voc.)</td>\n      <td>NaN</td>\n      <td>père ! Vader !</td>\n    </tr>\n    <tr>\n      <th>1</th>\n      <td>2065</td>\n      <td>’ba’ba</td>\n      <td>(v.)</td>\n      <td>NaN</td>\n      <td>tordre, être tordu. Tot wrong draaien of rolle...</td>\n    </tr>\n    <tr>\n      <th>8</th>\n      <td>2075</td>\n      <td>’bama</td>\n      <td>(v.)</td>\n      <td>NaN</td>\n      <td>serrer, pincer. Knijpen, vastknellen.</td>\n    </tr>\n    <tr>\n      <th>9</th>\n      <td>2076</td>\n      <td>bàmbú</td>\n      <td>(s.)</td>\n      <td>NaN</td>\n      <td>ceinture large des mVres aprVs l’enfantement. ...</td>\n    </tr>\n    <tr>\n      <th>52</th>\n      <td>2155</td>\n      <td>bɔ̀bá</td>\n      <td>(s. cfr.)</td>\n      <td>NaN</td>\n      <td>papa ! Vader!</td>\n    </tr>\n    <tr>\n      <th>58</th>\n      <td>2161</td>\n      <td>’bɔmɔ</td>\n      <td>(v.)</td>\n      <td>NaN</td>\n      <td>serrer, pincer ; être serré, être pincé. Toekn...</td>\n    </tr>\n    <tr>\n      <th>431</th>\n      <td>2910</td>\n      <td>mbá’bó-</td>\n      <td>(s.)</td>\n      <td>mbá’bó kɔ̃̀</td>\n      <td>, : fosse pour prendre des animaux. Valput voo...</td>\n    </tr>\n    <tr>\n      <th>454</th>\n      <td>2951</td>\n      <td>mbɔ́bì</td>\n      <td>(s.)</td>\n      <td>NaN</td>\n      <td>: rotin mince dônnant des liens forts. Dunne ...</td>\n    </tr>\n    <tr>\n      <th>477</th>\n      <td>2993</td>\n      <td>mɔmɔ</td>\n      <td>(v.)</td>\n      <td>NaN</td>\n      <td>rire; se moquer de. Lachen, uitlachen.</td>\n    </tr>\n    <tr>\n      <th>478</th>\n      <td>2994</td>\n      <td>mɔ̀mù</td>\n      <td>(s.)</td>\n      <td>màmù ; tè dò mòmù</td>\n      <td>: éclater de rire. In lach uitbarsten, schate...</td>\n    </tr>\n    <tr>\n      <th>627</th>\n      <td>3300</td>\n      <td>pɛpɛ</td>\n      <td>(v.)</td>\n      <td>NaN</td>\n      <td>vanner, activer en faisant du vent. Wannen, aa...</td>\n    </tr>\n    <tr>\n      <th>630</th>\n      <td>3309</td>\n      <td>pumbu</td>\n      <td>(v.)</td>\n      <td>NaN</td>\n      <td>être vide, être creux. Loos zijn, ledig zijn.</td>\n    </tr>\n  </tbody>\n</table>\n</div>"
     },
     "metadata": {},
     "execution_count": 9
    }
   ],
   "source": [
    "df[['ID','IPA','POS','Alt form','Def']].loc[(df['C1 place'] == 'lab') & (df['C2 place'] == 'lab')]"
   ]
  },
  {
   "cell_type": "markdown",
   "metadata": {},
   "source": [
    "#### dorsal-dorsal"
   ]
  },
  {
   "cell_type": "code",
   "execution_count": 10,
   "metadata": {},
   "outputs": [
    {
     "output_type": "execute_result",
     "data": {
      "text/plain": [
       "       ID       IPA         POS Alt form  \\\n",
       "159  2380     gàgá        (s.)      NaN   \n",
       "160  2381     gàga̍        (s.)      NaN   \n",
       "161  2382    ga̍ga̍        (s.)      NaN   \n",
       "170  2393    gàŋga̍        (s.)      NaN   \n",
       "225  2509    gòkò        (s.)   gògò   \n",
       "236  2529   gɔ̀ŋgɔ̀        (s.)      NaN   \n",
       "269  2608      kàkà        (s.)      NaN   \n",
       "270  2609      kàkà        (s.)      NaN   \n",
       "284  2632    káŋgé        (s.)      NaN   \n",
       "294  2647     kèŋgè        (s.)      NaN   \n",
       "302  2663   kɛ̀ŋgɛ̀        (s.)      NaN   \n",
       "312  2683    kòkò        (s.)      NaN   \n",
       "323  2698   kòŋgò  (s., cfr.)   ŋgo’be   \n",
       "324  2699    kóŋgò        (s.)      NaN   \n",
       "335  2728   kɔ̀ŋgɔ̀        (s.)      NaN   \n",
       "369  2803      kùkà        (s.)      NaN   \n",
       "386  2823    kùŋgu̍        (s.)      NaN   \n",
       "579  3205     ŋgaka        (v.)      NaN   \n",
       "585  3213  ŋga̍ŋga̍        (s.)      NaN   \n",
       "586  3214    ŋgàŋgà     (s. r.)      NaN   \n",
       "587  3216  ŋgáŋge̍        (s.)      NaN   \n",
       "601  3238   ŋgòko̍        (s.)      NaN   \n",
       "605  3242   ŋgóŋgò   (s. étr.)      NaN   \n",
       "609  3250    ŋgùkú        (s.)      NaN   \n",
       "613  3255   ŋgùŋge̍        (s.)      NaN   \n",
       "872  2610  kàkɔ̀ã́        (s.)      NaN   \n",
       "\n",
       "                                                   Def  \n",
       "159  culture en saison sVche en terrain marécageux....  \n",
       "160         gouttes de rosée. Lekende dauwdroppels. •*  \n",
       "161         cornet. Hoornfluitje met slechts een toon.  \n",
       "170                      crochet, barbillon. Weerhaak.  \n",
       "225                                 , =  : dent. Tand.  \n",
       "236                                             #NAME?  \n",
       "269  ancien couteau Ngbaka à lame et poignée larges...  \n",
       "270  arriVre grand-pVre, — grand’mVre. Overgrootvad...  \n",
       "284  grand serpent ‘jaune vert, vénimeux. Grote gee...  \n",
       "294       coin (vu de l’exférieur). Hoek (van buiten).  \n",
       "302               coin pour fendre le bois. Wig, spie.  \n",
       "312                      tortue d’eau. Waterschildpad.  \n",
       "323                                     : milan. Wouw.  \n",
       "324                                         houe. Hak.  \n",
       "335  case rectangulaire avec toit en deux penchants...  \n",
       "369  grand arbre a bois brun dur. Grote boom met ha...  \n",
       "386                                     crochet. Haak.  \n",
       "579  durcir (de fruits ou légumes). Taai ■—-, hard ...  \n",
       "585           petite saison sèche. Klein drooggetijde.  \n",
       "586  rudesse, grossièreté. Ruwheid, barse grootdoen...  \n",
       "587                                    rouille. Roest.  \n",
       "601  matière purulente durcie, croûte de blessure. ...  \n",
       "605                                    bambou. Bamboe.  \n",
       "609       boîte ronde en. écorce. Doos uit boomschors.  \n",
       "613  buisson à écorce ■ fibreuse ; liens d’écorce n...  \n",
       "872  calao (— moyen). Neushoqrnvogel (middelgrote s...  "
      ],
      "text/html": "<div>\n<style scoped>\n    .dataframe tbody tr th:only-of-type {\n        vertical-align: middle;\n    }\n\n    .dataframe tbody tr th {\n        vertical-align: top;\n    }\n\n    .dataframe thead th {\n        text-align: right;\n    }\n</style>\n<table border=\"1\" class=\"dataframe\">\n  <thead>\n    <tr style=\"text-align: right;\">\n      <th></th>\n      <th>ID</th>\n      <th>IPA</th>\n      <th>POS</th>\n      <th>Alt form</th>\n      <th>Def</th>\n    </tr>\n  </thead>\n  <tbody>\n    <tr>\n      <th>159</th>\n      <td>2380</td>\n      <td>gàgá</td>\n      <td>(s.)</td>\n      <td>NaN</td>\n      <td>culture en saison sVche en terrain marécageux....</td>\n    </tr>\n    <tr>\n      <th>160</th>\n      <td>2381</td>\n      <td>gàga̍</td>\n      <td>(s.)</td>\n      <td>NaN</td>\n      <td>gouttes de rosée. Lekende dauwdroppels. •*</td>\n    </tr>\n    <tr>\n      <th>161</th>\n      <td>2382</td>\n      <td>ga̍ga̍</td>\n      <td>(s.)</td>\n      <td>NaN</td>\n      <td>cornet. Hoornfluitje met slechts een toon.</td>\n    </tr>\n    <tr>\n      <th>170</th>\n      <td>2393</td>\n      <td>gàŋga̍</td>\n      <td>(s.)</td>\n      <td>NaN</td>\n      <td>crochet, barbillon. Weerhaak.</td>\n    </tr>\n    <tr>\n      <th>225</th>\n      <td>2509</td>\n      <td>gòkò</td>\n      <td>(s.)</td>\n      <td>gògò</td>\n      <td>, =  : dent. Tand.</td>\n    </tr>\n    <tr>\n      <th>236</th>\n      <td>2529</td>\n      <td>gɔ̀ŋgɔ̀</td>\n      <td>(s.)</td>\n      <td>NaN</td>\n      <td>#NAME?</td>\n    </tr>\n    <tr>\n      <th>269</th>\n      <td>2608</td>\n      <td>kàkà</td>\n      <td>(s.)</td>\n      <td>NaN</td>\n      <td>ancien couteau Ngbaka à lame et poignée larges...</td>\n    </tr>\n    <tr>\n      <th>270</th>\n      <td>2609</td>\n      <td>kàkà</td>\n      <td>(s.)</td>\n      <td>NaN</td>\n      <td>arriVre grand-pVre, — grand’mVre. Overgrootvad...</td>\n    </tr>\n    <tr>\n      <th>284</th>\n      <td>2632</td>\n      <td>káŋgé</td>\n      <td>(s.)</td>\n      <td>NaN</td>\n      <td>grand serpent ‘jaune vert, vénimeux. Grote gee...</td>\n    </tr>\n    <tr>\n      <th>294</th>\n      <td>2647</td>\n      <td>kèŋgè</td>\n      <td>(s.)</td>\n      <td>NaN</td>\n      <td>coin (vu de l’exférieur). Hoek (van buiten).</td>\n    </tr>\n    <tr>\n      <th>302</th>\n      <td>2663</td>\n      <td>kɛ̀ŋgɛ̀</td>\n      <td>(s.)</td>\n      <td>NaN</td>\n      <td>coin pour fendre le bois. Wig, spie.</td>\n    </tr>\n    <tr>\n      <th>312</th>\n      <td>2683</td>\n      <td>kòkò</td>\n      <td>(s.)</td>\n      <td>NaN</td>\n      <td>tortue d’eau. Waterschildpad.</td>\n    </tr>\n    <tr>\n      <th>323</th>\n      <td>2698</td>\n      <td>kòŋgò</td>\n      <td>(s., cfr.)</td>\n      <td>ŋgo’be</td>\n      <td>: milan. Wouw.</td>\n    </tr>\n    <tr>\n      <th>324</th>\n      <td>2699</td>\n      <td>kóŋgò</td>\n      <td>(s.)</td>\n      <td>NaN</td>\n      <td>houe. Hak.</td>\n    </tr>\n    <tr>\n      <th>335</th>\n      <td>2728</td>\n      <td>kɔ̀ŋgɔ̀</td>\n      <td>(s.)</td>\n      <td>NaN</td>\n      <td>case rectangulaire avec toit en deux penchants...</td>\n    </tr>\n    <tr>\n      <th>369</th>\n      <td>2803</td>\n      <td>kùkà</td>\n      <td>(s.)</td>\n      <td>NaN</td>\n      <td>grand arbre a bois brun dur. Grote boom met ha...</td>\n    </tr>\n    <tr>\n      <th>386</th>\n      <td>2823</td>\n      <td>kùŋgu̍</td>\n      <td>(s.)</td>\n      <td>NaN</td>\n      <td>crochet. Haak.</td>\n    </tr>\n    <tr>\n      <th>579</th>\n      <td>3205</td>\n      <td>ŋgaka</td>\n      <td>(v.)</td>\n      <td>NaN</td>\n      <td>durcir (de fruits ou légumes). Taai ■—-, hard ...</td>\n    </tr>\n    <tr>\n      <th>585</th>\n      <td>3213</td>\n      <td>ŋga̍ŋga̍</td>\n      <td>(s.)</td>\n      <td>NaN</td>\n      <td>petite saison sèche. Klein drooggetijde.</td>\n    </tr>\n    <tr>\n      <th>586</th>\n      <td>3214</td>\n      <td>ŋgàŋgà</td>\n      <td>(s. r.)</td>\n      <td>NaN</td>\n      <td>rudesse, grossièreté. Ruwheid, barse grootdoen...</td>\n    </tr>\n    <tr>\n      <th>587</th>\n      <td>3216</td>\n      <td>ŋgáŋge̍</td>\n      <td>(s.)</td>\n      <td>NaN</td>\n      <td>rouille. Roest.</td>\n    </tr>\n    <tr>\n      <th>601</th>\n      <td>3238</td>\n      <td>ŋgòko̍</td>\n      <td>(s.)</td>\n      <td>NaN</td>\n      <td>matière purulente durcie, croûte de blessure. ...</td>\n    </tr>\n    <tr>\n      <th>605</th>\n      <td>3242</td>\n      <td>ŋgóŋgò</td>\n      <td>(s. étr.)</td>\n      <td>NaN</td>\n      <td>bambou. Bamboe.</td>\n    </tr>\n    <tr>\n      <th>609</th>\n      <td>3250</td>\n      <td>ŋgùkú</td>\n      <td>(s.)</td>\n      <td>NaN</td>\n      <td>boîte ronde en. écorce. Doos uit boomschors.</td>\n    </tr>\n    <tr>\n      <th>613</th>\n      <td>3255</td>\n      <td>ŋgùŋge̍</td>\n      <td>(s.)</td>\n      <td>NaN</td>\n      <td>buisson à écorce ■ fibreuse ; liens d’écorce n...</td>\n    </tr>\n    <tr>\n      <th>872</th>\n      <td>2610</td>\n      <td>kàkɔ̀ã́</td>\n      <td>(s.)</td>\n      <td>NaN</td>\n      <td>calao (— moyen). Neushoqrnvogel (middelgrote s...</td>\n    </tr>\n  </tbody>\n</table>\n</div>"
     },
     "metadata": {},
     "execution_count": 10
    }
   ],
   "source": [
    "df[['ID','IPA','POS','Alt form','Def']].loc[(df['C1 place'] == 'dor') & (df['C2 place'] == 'dor')]"
   ]
  },
  {
   "cell_type": "markdown",
   "metadata": {},
   "source": [
    "#### coronal-coronal"
   ]
  },
  {
   "cell_type": "code",
   "execution_count": 11,
   "metadata": {},
   "outputs": [
    {
     "output_type": "execute_result",
     "data": {
      "text/plain": [
       "       ID        IPA   POS Alt form  \\\n",
       "79   2199      dànì  (s.)      NaN   \n",
       "110  2264    dɔ̀ndɔ̀  (s.)      NaN   \n",
       "111  2266     dɔ̀nɔ̀  (s.)      NaN   \n",
       "119  2279       dunu  (v.)      NaN   \n",
       "128  2295      ’dɛnɛ  (v.)      NaN   \n",
       "129  2302  ’dò’dò-  (s.)      NaN   \n",
       "130  2303     ’dó’dó  (s.)      NaN   \n",
       "135  2315   ’du̍’du̍  (s.)      NaN   \n",
       "490  3031      ndànà  (s.)      NaN   \n",
       "496  3041   ndɛ̀ndɛ̀  (s.)      NaN   \n",
       "503  3056   ndòndo̍  (s.)      NaN   \n",
       "508  3066    ndɔ̀ti̍  (s.)      NaN   \n",
       "513  3073    ndù’dì  (s.)      NaN   \n",
       "520  3097       nɔnɔ  (v.)      NaN   \n",
       "702  3435     tà’da̍  (s.)      NaN   \n",
       "709  3449       tana  (v.)      NaN   \n",
       "710  3450     ta̍na̍  (s.)      NaN   \n",
       "711  3451      tanda  (v.)      NaN   \n",
       "712  3452      tàndà  (s.)      NaN   \n",
       "713  3455     tàndu̍  (s.)      NaN   \n",
       "716  3459       tata  (v.)      NaN   \n",
       "728  3482    tìnda̍  (s.)      NaN   \n",
       "731  3492      to’do  (v.)      NaN   \n",
       "743  3517      tɔndɔ  (v.)      NaN   \n",
       "750  3530       tunu  (v.)      NaN   \n",
       "868  2198    dándèà  (s.)      NaN   \n",
       "869  2285   dúu̍dú  (s.)      NaN   \n",
       "876  3048   ndìtɔ̀à  (s.)      NaN   \n",
       "\n",
       "                                                   Def  \n",
       "79                   plaie, blessure. Wonde, kwetsuur.  \n",
       "110        surface glissante. Gladheid, glibberigheid.  \n",
       "111  marteau. Hamer, vroeger: Zang ijzer dikker aan...  \n",
       "119           être rempli ; remplir. Vol zijn; vullen.  \n",
       "128  buter contre, donner des coups de poing, — de ...  \n",
       "129                            testicules. Teelballen.  \n",
       "130  maladie des cheveux et de la peau. Huid- en ha...  \n",
       "135         pian au pied. Pian- wond£ aan de voetzool.  \n",
       "490                         mal aux reins. Lendenpijn.  \n",
       "496                            fougères. Varenplanten.  \n",
       "503   : petite râle de forêt marécageuse. Kleine bo...  \n",
       "508                fin, terme. Einde (plaats en tijd).  \n",
       "513   : grosbec à poitrine rouge et ventre noir poi...  \n",
       "520                                  gratter. Krabben.  \n",
       "702  espèce de vigne sauvage à tiges articulées cas...  \n",
       "709             trembler. Beven, bibberen; doen beven.  \n",
       "710                                 tortue. Schildpad.  \n",
       "711  aveugler ; être aveuglé. Verblinden; verblind ...  \n",
       "712  torche, — jadis en bois de tanda. Fakkel, vroe...  \n",
       "713                                 cécité. Blindheid.  \n",
       "716  tendre, étendre, étirer ; s’étendre. Uitrekken...  \n",
       "728  grands termites jaunes de la forêt. Grote bost...  \n",
       "731  transverser, dé' canter, verser. Overgieten, a...  \n",
       "743       soutenir, supporter. Schragen, ondersteunen.  \n",
       "750  éveiller ; se réveiller, revenir à la vie. Wek...  \n",
       "868   petite hirondelle noire. Gewone zwarte holenz...  \n",
       "869   espVce de grand coucou à éperon. Grote spoork...  \n",
       "876             souris des cases. Huismuis (Mastomys).  "
      ],
      "text/html": "<div>\n<style scoped>\n    .dataframe tbody tr th:only-of-type {\n        vertical-align: middle;\n    }\n\n    .dataframe tbody tr th {\n        vertical-align: top;\n    }\n\n    .dataframe thead th {\n        text-align: right;\n    }\n</style>\n<table border=\"1\" class=\"dataframe\">\n  <thead>\n    <tr style=\"text-align: right;\">\n      <th></th>\n      <th>ID</th>\n      <th>IPA</th>\n      <th>POS</th>\n      <th>Alt form</th>\n      <th>Def</th>\n    </tr>\n  </thead>\n  <tbody>\n    <tr>\n      <th>79</th>\n      <td>2199</td>\n      <td>dànì</td>\n      <td>(s.)</td>\n      <td>NaN</td>\n      <td>plaie, blessure. Wonde, kwetsuur.</td>\n    </tr>\n    <tr>\n      <th>110</th>\n      <td>2264</td>\n      <td>dɔ̀ndɔ̀</td>\n      <td>(s.)</td>\n      <td>NaN</td>\n      <td>surface glissante. Gladheid, glibberigheid.</td>\n    </tr>\n    <tr>\n      <th>111</th>\n      <td>2266</td>\n      <td>dɔ̀nɔ̀</td>\n      <td>(s.)</td>\n      <td>NaN</td>\n      <td>marteau. Hamer, vroeger: Zang ijzer dikker aan...</td>\n    </tr>\n    <tr>\n      <th>119</th>\n      <td>2279</td>\n      <td>dunu</td>\n      <td>(v.)</td>\n      <td>NaN</td>\n      <td>être rempli ; remplir. Vol zijn; vullen.</td>\n    </tr>\n    <tr>\n      <th>128</th>\n      <td>2295</td>\n      <td>’dɛnɛ</td>\n      <td>(v.)</td>\n      <td>NaN</td>\n      <td>buter contre, donner des coups de poing, — de ...</td>\n    </tr>\n    <tr>\n      <th>129</th>\n      <td>2302</td>\n      <td>’dò’dò-</td>\n      <td>(s.)</td>\n      <td>NaN</td>\n      <td>testicules. Teelballen.</td>\n    </tr>\n    <tr>\n      <th>130</th>\n      <td>2303</td>\n      <td>’dó’dó</td>\n      <td>(s.)</td>\n      <td>NaN</td>\n      <td>maladie des cheveux et de la peau. Huid- en ha...</td>\n    </tr>\n    <tr>\n      <th>135</th>\n      <td>2315</td>\n      <td>’du̍’du̍</td>\n      <td>(s.)</td>\n      <td>NaN</td>\n      <td>pian au pied. Pian- wond£ aan de voetzool.</td>\n    </tr>\n    <tr>\n      <th>490</th>\n      <td>3031</td>\n      <td>ndànà</td>\n      <td>(s.)</td>\n      <td>NaN</td>\n      <td>mal aux reins. Lendenpijn.</td>\n    </tr>\n    <tr>\n      <th>496</th>\n      <td>3041</td>\n      <td>ndɛ̀ndɛ̀</td>\n      <td>(s.)</td>\n      <td>NaN</td>\n      <td>fougères. Varenplanten.</td>\n    </tr>\n    <tr>\n      <th>503</th>\n      <td>3056</td>\n      <td>ndòndo̍</td>\n      <td>(s.)</td>\n      <td>NaN</td>\n      <td>: petite râle de forêt marécageuse. Kleine bo...</td>\n    </tr>\n    <tr>\n      <th>508</th>\n      <td>3066</td>\n      <td>ndɔ̀ti̍</td>\n      <td>(s.)</td>\n      <td>NaN</td>\n      <td>fin, terme. Einde (plaats en tijd).</td>\n    </tr>\n    <tr>\n      <th>513</th>\n      <td>3073</td>\n      <td>ndù’dì</td>\n      <td>(s.)</td>\n      <td>NaN</td>\n      <td>: grosbec à poitrine rouge et ventre noir poi...</td>\n    </tr>\n    <tr>\n      <th>520</th>\n      <td>3097</td>\n      <td>nɔnɔ</td>\n      <td>(v.)</td>\n      <td>NaN</td>\n      <td>gratter. Krabben.</td>\n    </tr>\n    <tr>\n      <th>702</th>\n      <td>3435</td>\n      <td>tà’da̍</td>\n      <td>(s.)</td>\n      <td>NaN</td>\n      <td>espèce de vigne sauvage à tiges articulées cas...</td>\n    </tr>\n    <tr>\n      <th>709</th>\n      <td>3449</td>\n      <td>tana</td>\n      <td>(v.)</td>\n      <td>NaN</td>\n      <td>trembler. Beven, bibberen; doen beven.</td>\n    </tr>\n    <tr>\n      <th>710</th>\n      <td>3450</td>\n      <td>ta̍na̍</td>\n      <td>(s.)</td>\n      <td>NaN</td>\n      <td>tortue. Schildpad.</td>\n    </tr>\n    <tr>\n      <th>711</th>\n      <td>3451</td>\n      <td>tanda</td>\n      <td>(v.)</td>\n      <td>NaN</td>\n      <td>aveugler ; être aveuglé. Verblinden; verblind ...</td>\n    </tr>\n    <tr>\n      <th>712</th>\n      <td>3452</td>\n      <td>tàndà</td>\n      <td>(s.)</td>\n      <td>NaN</td>\n      <td>torche, — jadis en bois de tanda. Fakkel, vroe...</td>\n    </tr>\n    <tr>\n      <th>713</th>\n      <td>3455</td>\n      <td>tàndu̍</td>\n      <td>(s.)</td>\n      <td>NaN</td>\n      <td>cécité. Blindheid.</td>\n    </tr>\n    <tr>\n      <th>716</th>\n      <td>3459</td>\n      <td>tata</td>\n      <td>(v.)</td>\n      <td>NaN</td>\n      <td>tendre, étendre, étirer ; s’étendre. Uitrekken...</td>\n    </tr>\n    <tr>\n      <th>728</th>\n      <td>3482</td>\n      <td>tìnda̍</td>\n      <td>(s.)</td>\n      <td>NaN</td>\n      <td>grands termites jaunes de la forêt. Grote bost...</td>\n    </tr>\n    <tr>\n      <th>731</th>\n      <td>3492</td>\n      <td>to’do</td>\n      <td>(v.)</td>\n      <td>NaN</td>\n      <td>transverser, dé' canter, verser. Overgieten, a...</td>\n    </tr>\n    <tr>\n      <th>743</th>\n      <td>3517</td>\n      <td>tɔndɔ</td>\n      <td>(v.)</td>\n      <td>NaN</td>\n      <td>soutenir, supporter. Schragen, ondersteunen.</td>\n    </tr>\n    <tr>\n      <th>750</th>\n      <td>3530</td>\n      <td>tunu</td>\n      <td>(v.)</td>\n      <td>NaN</td>\n      <td>éveiller ; se réveiller, revenir à la vie. Wek...</td>\n    </tr>\n    <tr>\n      <th>868</th>\n      <td>2198</td>\n      <td>dándèà</td>\n      <td>(s.)</td>\n      <td>NaN</td>\n      <td>petite hirondelle noire. Gewone zwarte holenz...</td>\n    </tr>\n    <tr>\n      <th>869</th>\n      <td>2285</td>\n      <td>dúu̍dú</td>\n      <td>(s.)</td>\n      <td>NaN</td>\n      <td>espVce de grand coucou à éperon. Grote spoork...</td>\n    </tr>\n    <tr>\n      <th>876</th>\n      <td>3048</td>\n      <td>ndìtɔ̀à</td>\n      <td>(s.)</td>\n      <td>NaN</td>\n      <td>souris des cases. Huismuis (Mastomys).</td>\n    </tr>\n  </tbody>\n</table>\n</div>"
     },
     "metadata": {},
     "execution_count": 11
    }
   ],
   "source": [
    "df[['ID','IPA','POS','Alt form','Def']].loc[(df['C1 place'] == 'cor') & (df['C2 place'] == 'cor')]"
   ]
  },
  {
   "cell_type": "markdown",
   "metadata": {},
   "source": [
    "#### labial-dorsal - labial-dorsal"
   ]
  },
  {
   "cell_type": "code",
   "execution_count": 12,
   "metadata": {},
   "outputs": [
    {
     "output_type": "execute_result",
     "data": {
      "text/plain": [
       "       ID       IPA        POS Alt form  \\\n",
       "173  2412    gbàgbà       (s.)      NaN   \n",
       "174  2413   gbágbà       (s.)      NaN   \n",
       "175  2414   gbàgbá       (s.)      NaN   \n",
       "188  2435    gbàŋbà       (s.)      NaN   \n",
       "204  2466  gbo̍ŋbo̍       (s.)      NaN   \n",
       "205  2468  gbɔ̀gbɔ̀       (s.)      NaN   \n",
       "358  2781  kpòŋbò       (s.)      NaN   \n",
       "359  2785  kpɔ̀kpɔ̀       (s.)      NaN   \n",
       "558  3162   ŋbàŋbò  (s. étr.)      NaN   \n",
       "566  3175    ŋbéŋbé       (s.)      NaN   \n",
       "573  3190    ŋboŋbo    (v. r.)      NaN   \n",
       "\n",
       "                                                   Def  \n",
       "173                                        pont. Brug.  \n",
       "174  clôture en pieux ou claies. Afsluiting uit sta...  \n",
       "175  claie de lattes de rachis de palmier ; lattes ...  \n",
       "188  piVge avec poids écrasant l’animal ou fermant ...  \n",
       "204                                      rigole. Geul.  \n",
       "205                                       lion. Leeuw.  \n",
       "358  tabouret indigène. Stoeltje zonder leuning' - ...  \n",
       "359                             chaussures. Schoeisel.  \n",
       "558                       bâton de portage. Draagstok.  \n",
       "566  grelot. Belletje uit samengeplooid ijzeren pla...  \n",
       "573  amasser, rassembler ; concourir. Samenhopen; s...  "
      ],
      "text/html": "<div>\n<style scoped>\n    .dataframe tbody tr th:only-of-type {\n        vertical-align: middle;\n    }\n\n    .dataframe tbody tr th {\n        vertical-align: top;\n    }\n\n    .dataframe thead th {\n        text-align: right;\n    }\n</style>\n<table border=\"1\" class=\"dataframe\">\n  <thead>\n    <tr style=\"text-align: right;\">\n      <th></th>\n      <th>ID</th>\n      <th>IPA</th>\n      <th>POS</th>\n      <th>Alt form</th>\n      <th>Def</th>\n    </tr>\n  </thead>\n  <tbody>\n    <tr>\n      <th>173</th>\n      <td>2412</td>\n      <td>gbàgbà</td>\n      <td>(s.)</td>\n      <td>NaN</td>\n      <td>pont. Brug.</td>\n    </tr>\n    <tr>\n      <th>174</th>\n      <td>2413</td>\n      <td>gbágbà</td>\n      <td>(s.)</td>\n      <td>NaN</td>\n      <td>clôture en pieux ou claies. Afsluiting uit sta...</td>\n    </tr>\n    <tr>\n      <th>175</th>\n      <td>2414</td>\n      <td>gbàgbá</td>\n      <td>(s.)</td>\n      <td>NaN</td>\n      <td>claie de lattes de rachis de palmier ; lattes ...</td>\n    </tr>\n    <tr>\n      <th>188</th>\n      <td>2435</td>\n      <td>gbàŋbà</td>\n      <td>(s.)</td>\n      <td>NaN</td>\n      <td>piVge avec poids écrasant l’animal ou fermant ...</td>\n    </tr>\n    <tr>\n      <th>204</th>\n      <td>2466</td>\n      <td>gbo̍ŋbo̍</td>\n      <td>(s.)</td>\n      <td>NaN</td>\n      <td>rigole. Geul.</td>\n    </tr>\n    <tr>\n      <th>205</th>\n      <td>2468</td>\n      <td>gbɔ̀gbɔ̀</td>\n      <td>(s.)</td>\n      <td>NaN</td>\n      <td>lion. Leeuw.</td>\n    </tr>\n    <tr>\n      <th>358</th>\n      <td>2781</td>\n      <td>kpòŋbò</td>\n      <td>(s.)</td>\n      <td>NaN</td>\n      <td>tabouret indigène. Stoeltje zonder leuning' - ...</td>\n    </tr>\n    <tr>\n      <th>359</th>\n      <td>2785</td>\n      <td>kpɔ̀kpɔ̀</td>\n      <td>(s.)</td>\n      <td>NaN</td>\n      <td>chaussures. Schoeisel.</td>\n    </tr>\n    <tr>\n      <th>558</th>\n      <td>3162</td>\n      <td>ŋbàŋbò</td>\n      <td>(s. étr.)</td>\n      <td>NaN</td>\n      <td>bâton de portage. Draagstok.</td>\n    </tr>\n    <tr>\n      <th>566</th>\n      <td>3175</td>\n      <td>ŋbéŋbé</td>\n      <td>(s.)</td>\n      <td>NaN</td>\n      <td>grelot. Belletje uit samengeplooid ijzeren pla...</td>\n    </tr>\n    <tr>\n      <th>573</th>\n      <td>3190</td>\n      <td>ŋboŋbo</td>\n      <td>(v. r.)</td>\n      <td>NaN</td>\n      <td>amasser, rassembler ; concourir. Samenhopen; s...</td>\n    </tr>\n  </tbody>\n</table>\n</div>"
     },
     "metadata": {},
     "execution_count": 12
    }
   ],
   "source": [
    "df[['ID','IPA','POS','Alt form','Def']].loc[(df['C1 place'] == 'labdor') & (df['C2 place'] == 'labdor')]"
   ]
  },
  {
   "cell_type": "markdown",
   "metadata": {},
   "source": [
    "#### labial-dorsal - labial"
   ]
  },
  {
   "cell_type": "code",
   "execution_count": 13,
   "metadata": {},
   "outputs": [
    {
     "output_type": "execute_result",
     "data": {
      "text/plain": [
       "       ID      IPA   POS Alt form  \\\n",
       "203  2465  gbòmbè  (s.)      NaN   \n",
       "556  3160   ŋbámù  (s.)      NaN   \n",
       "\n",
       "                                                   Def  \n",
       "203                 marabout. Mara- boet, kropooivaar.  \n",
       "556  antilope huppée à raie dorsale noire. Rugstree...  "
      ],
      "text/html": "<div>\n<style scoped>\n    .dataframe tbody tr th:only-of-type {\n        vertical-align: middle;\n    }\n\n    .dataframe tbody tr th {\n        vertical-align: top;\n    }\n\n    .dataframe thead th {\n        text-align: right;\n    }\n</style>\n<table border=\"1\" class=\"dataframe\">\n  <thead>\n    <tr style=\"text-align: right;\">\n      <th></th>\n      <th>ID</th>\n      <th>IPA</th>\n      <th>POS</th>\n      <th>Alt form</th>\n      <th>Def</th>\n    </tr>\n  </thead>\n  <tbody>\n    <tr>\n      <th>203</th>\n      <td>2465</td>\n      <td>gbòmbè</td>\n      <td>(s.)</td>\n      <td>NaN</td>\n      <td>marabout. Mara- boet, kropooivaar.</td>\n    </tr>\n    <tr>\n      <th>556</th>\n      <td>3160</td>\n      <td>ŋbámù</td>\n      <td>(s.)</td>\n      <td>NaN</td>\n      <td>antilope huppée à raie dorsale noire. Rugstree...</td>\n    </tr>\n  </tbody>\n</table>\n</div>"
     },
     "metadata": {},
     "execution_count": 13
    }
   ],
   "source": [
    "df[['ID','IPA','POS','Alt form','Def']].loc[(df['C1 place'] == 'labdor') & (df['C2 place'] == 'lab')]"
   ]
  },
  {
   "cell_type": "markdown",
   "metadata": {},
   "source": [
    "#### labial-dorsal - dorsal"
   ]
  },
  {
   "cell_type": "code",
   "execution_count": 14,
   "metadata": {},
   "outputs": [
    {
     "output_type": "execute_result",
     "data": {
      "text/plain": [
       "       ID       IPA         POS                Alt form  \\\n",
       "176  2416     gbaka        (v.)                     NaN   \n",
       "177  2419  gbákɔ̍-        (s.)                     NaN   \n",
       "187  2434     gbaŋa        (v.)                     NaN   \n",
       "189  2436    gbàŋgà        (s.)                     NaN   \n",
       "346  2756   kpáŋgà   (s. étr.)                     NaN   \n",
       "349  2765    kpɛ̀kà        (s.)                     NaN   \n",
       "350  2766    kpɛ̀kà  (s., cfr.)           pɛ̀tɛ́kɛ̀lɛ̍    \n",
       "352  2769  kpɛ̀ŋga̍        (s.)                     NaN   \n",
       "552  3155     ŋbàkà        (s.)                     NaN   \n",
       "559  3164    ŋbàŋgà   (s. étr.)                     NaN   \n",
       "560  3165  ŋbàŋgá-        (s.)            ŋbàŋgá wi̍    \n",
       "570  3187    ŋbókó-        (s.)   ŋbókó zu̍ gòlò wi̍    \n",
       "575  3198    ŋbùŋgà        (s.)             ŋbuŋga bili   \n",
       "\n",
       "                                                   Def  \n",
       "176                           aider, secourir. Helpen.  \n",
       "177         branche d’arbre. Tak, vertakking van boom.  \n",
       "187  s’effrayer ; survenir à l’improviste. Verschie...  \n",
       "189  battant de porte, panneau d’écorce ou de planc...  \n",
       "346  pain de manioc. Maniokbrood; gekookte maniok- ...  \n",
       "349             bistouri pour tatouage. Tatoeëermesje.  \n",
       "350      : déclic ■d'un piège. Springstokje van strop.  \n",
       "352  lame —, fer d’arme ou d'outil sans manche.. Ij...  \n",
       "552  Ngbaka, peuple ■—, langue Ngbaka. Ngbaka (man)...  \n",
       "559             palabre, cause, litige. Geschil, zaak.  \n",
       "560  , : meneur de combat ; batailleur. Voorvechter...  \n",
       "570                  ,: mal au genou. Gezwel aan knie.  \n",
       "575  ,  : corde principale d’un piège. Koord die st...  "
      ],
      "text/html": "<div>\n<style scoped>\n    .dataframe tbody tr th:only-of-type {\n        vertical-align: middle;\n    }\n\n    .dataframe tbody tr th {\n        vertical-align: top;\n    }\n\n    .dataframe thead th {\n        text-align: right;\n    }\n</style>\n<table border=\"1\" class=\"dataframe\">\n  <thead>\n    <tr style=\"text-align: right;\">\n      <th></th>\n      <th>ID</th>\n      <th>IPA</th>\n      <th>POS</th>\n      <th>Alt form</th>\n      <th>Def</th>\n    </tr>\n  </thead>\n  <tbody>\n    <tr>\n      <th>176</th>\n      <td>2416</td>\n      <td>gbaka</td>\n      <td>(v.)</td>\n      <td>NaN</td>\n      <td>aider, secourir. Helpen.</td>\n    </tr>\n    <tr>\n      <th>177</th>\n      <td>2419</td>\n      <td>gbákɔ̍-</td>\n      <td>(s.)</td>\n      <td>NaN</td>\n      <td>branche d’arbre. Tak, vertakking van boom.</td>\n    </tr>\n    <tr>\n      <th>187</th>\n      <td>2434</td>\n      <td>gbaŋa</td>\n      <td>(v.)</td>\n      <td>NaN</td>\n      <td>s’effrayer ; survenir à l’improviste. Verschie...</td>\n    </tr>\n    <tr>\n      <th>189</th>\n      <td>2436</td>\n      <td>gbàŋgà</td>\n      <td>(s.)</td>\n      <td>NaN</td>\n      <td>battant de porte, panneau d’écorce ou de planc...</td>\n    </tr>\n    <tr>\n      <th>346</th>\n      <td>2756</td>\n      <td>kpáŋgà</td>\n      <td>(s. étr.)</td>\n      <td>NaN</td>\n      <td>pain de manioc. Maniokbrood; gekookte maniok- ...</td>\n    </tr>\n    <tr>\n      <th>349</th>\n      <td>2765</td>\n      <td>kpɛ̀kà</td>\n      <td>(s.)</td>\n      <td>NaN</td>\n      <td>bistouri pour tatouage. Tatoeëermesje.</td>\n    </tr>\n    <tr>\n      <th>350</th>\n      <td>2766</td>\n      <td>kpɛ̀kà</td>\n      <td>(s., cfr.)</td>\n      <td>pɛ̀tɛ́kɛ̀lɛ̍</td>\n      <td>: déclic ■d'un piège. Springstokje van strop.</td>\n    </tr>\n    <tr>\n      <th>352</th>\n      <td>2769</td>\n      <td>kpɛ̀ŋga̍</td>\n      <td>(s.)</td>\n      <td>NaN</td>\n      <td>lame —, fer d’arme ou d'outil sans manche.. Ij...</td>\n    </tr>\n    <tr>\n      <th>552</th>\n      <td>3155</td>\n      <td>ŋbàkà</td>\n      <td>(s.)</td>\n      <td>NaN</td>\n      <td>Ngbaka, peuple ■—, langue Ngbaka. Ngbaka (man)...</td>\n    </tr>\n    <tr>\n      <th>559</th>\n      <td>3164</td>\n      <td>ŋbàŋgà</td>\n      <td>(s. étr.)</td>\n      <td>NaN</td>\n      <td>palabre, cause, litige. Geschil, zaak.</td>\n    </tr>\n    <tr>\n      <th>560</th>\n      <td>3165</td>\n      <td>ŋbàŋgá-</td>\n      <td>(s.)</td>\n      <td>ŋbàŋgá wi̍</td>\n      <td>, : meneur de combat ; batailleur. Voorvechter...</td>\n    </tr>\n    <tr>\n      <th>570</th>\n      <td>3187</td>\n      <td>ŋbókó-</td>\n      <td>(s.)</td>\n      <td>ŋbókó zu̍ gòlò wi̍</td>\n      <td>,: mal au genou. Gezwel aan knie.</td>\n    </tr>\n    <tr>\n      <th>575</th>\n      <td>3198</td>\n      <td>ŋbùŋgà</td>\n      <td>(s.)</td>\n      <td>ŋbuŋga bili</td>\n      <td>,  : corde principale d’un piège. Koord die st...</td>\n    </tr>\n  </tbody>\n</table>\n</div>"
     },
     "metadata": {},
     "execution_count": 14
    }
   ],
   "source": [
    "df[['ID','IPA','POS','Alt form','Def']].loc[(df['C1 place'] == 'labdor') & (df['C2 place'] == 'dor')]"
   ]
  },
  {
   "cell_type": "markdown",
   "metadata": {},
   "source": [
    "#### labial - labial-dorsal"
   ]
  },
  {
   "cell_type": "code",
   "execution_count": 15,
   "metadata": {},
   "outputs": [
    {
     "output_type": "execute_result",
     "data": {
      "text/plain": [
       "Empty DataFrame\n",
       "Columns: [ID, IPA, POS, Alt form, Def]\n",
       "Index: []"
      ],
      "text/html": "<div>\n<style scoped>\n    .dataframe tbody tr th:only-of-type {\n        vertical-align: middle;\n    }\n\n    .dataframe tbody tr th {\n        vertical-align: top;\n    }\n\n    .dataframe thead th {\n        text-align: right;\n    }\n</style>\n<table border=\"1\" class=\"dataframe\">\n  <thead>\n    <tr style=\"text-align: right;\">\n      <th></th>\n      <th>ID</th>\n      <th>IPA</th>\n      <th>POS</th>\n      <th>Alt form</th>\n      <th>Def</th>\n    </tr>\n  </thead>\n  <tbody>\n  </tbody>\n</table>\n</div>"
     },
     "metadata": {},
     "execution_count": 15
    }
   ],
   "source": [
    "df[['ID','IPA','POS','Alt form','Def']].loc[(df['C1 place'] == 'lab') & (df['C2 place'] == 'labdor')]"
   ]
  },
  {
   "cell_type": "markdown",
   "metadata": {},
   "source": [
    "#### dorsal - labial-dorsal"
   ]
  },
  {
   "cell_type": "code",
   "execution_count": 16,
   "metadata": {},
   "outputs": [
    {
     "output_type": "execute_result",
     "data": {
      "text/plain": [
       "       ID      IPA   POS Alt form  \\\n",
       "385  2822  ku̍ŋba̍  (s.)      NaN   \n",
       "\n",
       "                                                   Def  \n",
       "385  gros mortier pour piler le maïs. Brede en lage...  "
      ],
      "text/html": "<div>\n<style scoped>\n    .dataframe tbody tr th:only-of-type {\n        vertical-align: middle;\n    }\n\n    .dataframe tbody tr th {\n        vertical-align: top;\n    }\n\n    .dataframe thead th {\n        text-align: right;\n    }\n</style>\n<table border=\"1\" class=\"dataframe\">\n  <thead>\n    <tr style=\"text-align: right;\">\n      <th></th>\n      <th>ID</th>\n      <th>IPA</th>\n      <th>POS</th>\n      <th>Alt form</th>\n      <th>Def</th>\n    </tr>\n  </thead>\n  <tbody>\n    <tr>\n      <th>385</th>\n      <td>2822</td>\n      <td>ku̍ŋba̍</td>\n      <td>(s.)</td>\n      <td>NaN</td>\n      <td>gros mortier pour piler le maïs. Brede en lage...</td>\n    </tr>\n  </tbody>\n</table>\n</div>"
     },
     "metadata": {},
     "execution_count": 16
    }
   ],
   "source": [
    "df[['ID','IPA','POS','Alt form','Def']].loc[(df['C1 place'] == 'dor') & (df['C2 place'] == 'labdor')]"
   ]
  },
  {
   "cell_type": "markdown",
   "metadata": {},
   "source": [
    "## Voicing and Manner restrictions\n",
    "\n",
    "Definitions:\n",
    "\n",
    "- **T-D**: voiceless and voiced stop combinations\n",
    "- **N-ND**: nasal and prenasalized stop combinations\n",
    "- **D-ND**: oral and prenasalized stop combinations\n",
    "\n",
    "For all, order is irrelevant."
   ]
  },
  {
   "cell_type": "markdown",
   "metadata": {},
   "source": [
    "### Voicing Agreement"
   ]
  },
  {
   "cell_type": "code",
   "execution_count": 17,
   "metadata": {},
   "outputs": [
    {
     "output_type": "execute_result",
     "data": {
      "text/plain": [
       "T-D              No  Yes\n",
       "Homorganic              \n",
       "homorganic      203    1\n",
       "non-homorganic  654   22"
      ],
      "text/html": "<div>\n<style scoped>\n    .dataframe tbody tr th:only-of-type {\n        vertical-align: middle;\n    }\n\n    .dataframe tbody tr th {\n        vertical-align: top;\n    }\n\n    .dataframe thead th {\n        text-align: right;\n    }\n</style>\n<table border=\"1\" class=\"dataframe\">\n  <thead>\n    <tr style=\"text-align: right;\">\n      <th>T-D</th>\n      <th>No</th>\n      <th>Yes</th>\n    </tr>\n    <tr>\n      <th>Homorganic</th>\n      <th></th>\n      <th></th>\n    </tr>\n  </thead>\n  <tbody>\n    <tr>\n      <th>homorganic</th>\n      <td>203</td>\n      <td>1</td>\n    </tr>\n    <tr>\n      <th>non-homorganic</th>\n      <td>654</td>\n      <td>22</td>\n    </tr>\n  </tbody>\n</table>\n</div>"
     },
     "metadata": {},
     "execution_count": 17
    }
   ],
   "source": [
    "voicing = pd.crosstab(df['Homorganic'],\n",
    "                    df['T-D'])\n",
    "\n",
    "voicing"
   ]
  },
  {
   "cell_type": "markdown",
   "metadata": {},
   "source": [
    "The one observed token for a homorganic pair that disagrees in voicing is shown below. It has an alternate pronunciation ('Alt form') that does agree in voicing. Stats are run for both forms. The published paper includes the alt form in the main statistics, but notes that this was an alternate form. As will be shown, both results are significant with an unadjusted alpha of 0.05, but only the alt form is significant if alpha is adjusted for the three tests (voicing and two nasal restrictions). "
   ]
  },
  {
   "cell_type": "code",
   "execution_count": 18,
   "metadata": {},
   "outputs": [
    {
     "output_type": "execute_result",
     "data": {
      "text/plain": [
       "       ID     IPA   POS Alt form                 Def\n",
       "225  2509  gòkò  (s.)   gògò  , =  : dent. Tand."
      ],
      "text/html": "<div>\n<style scoped>\n    .dataframe tbody tr th:only-of-type {\n        vertical-align: middle;\n    }\n\n    .dataframe tbody tr th {\n        vertical-align: top;\n    }\n\n    .dataframe thead th {\n        text-align: right;\n    }\n</style>\n<table border=\"1\" class=\"dataframe\">\n  <thead>\n    <tr style=\"text-align: right;\">\n      <th></th>\n      <th>ID</th>\n      <th>IPA</th>\n      <th>POS</th>\n      <th>Alt form</th>\n      <th>Def</th>\n    </tr>\n  </thead>\n  <tbody>\n    <tr>\n      <th>225</th>\n      <td>2509</td>\n      <td>gòkò</td>\n      <td>(s.)</td>\n      <td>gògò</td>\n      <td>, =  : dent. Tand.</td>\n    </tr>\n  </tbody>\n</table>\n</div>"
     },
     "metadata": {},
     "execution_count": 18
    }
   ],
   "source": [
    "df[['ID','IPA','POS','Alt form','Def']].loc[(df['T-D'] == 'Yes') & (df['Homorganic'] == 'homorganic')]"
   ]
  },
  {
   "cell_type": "code",
   "execution_count": 19,
   "metadata": {
    "tags": []
   },
   "outputs": [
    {
     "output_type": "execute_result",
     "data": {
      "text/plain": [
       "T-D              No  Yes\n",
       "Homorganic              \n",
       "homorganic      204    0\n",
       "non-homorganic  654   22"
      ],
      "text/html": "<div>\n<style scoped>\n    .dataframe tbody tr th:only-of-type {\n        vertical-align: middle;\n    }\n\n    .dataframe tbody tr th {\n        vertical-align: top;\n    }\n\n    .dataframe thead th {\n        text-align: right;\n    }\n</style>\n<table border=\"1\" class=\"dataframe\">\n  <thead>\n    <tr style=\"text-align: right;\">\n      <th>T-D</th>\n      <th>No</th>\n      <th>Yes</th>\n    </tr>\n    <tr>\n      <th>Homorganic</th>\n      <th></th>\n      <th></th>\n    </tr>\n  </thead>\n  <tbody>\n    <tr>\n      <th>homorganic</th>\n      <td>204</td>\n      <td>0</td>\n    </tr>\n    <tr>\n      <th>non-homorganic</th>\n      <td>654</td>\n      <td>22</td>\n    </tr>\n  </tbody>\n</table>\n</div>"
     },
     "metadata": {},
     "execution_count": 19
    }
   ],
   "source": [
    "# cosntruct the alt form 2x2\n",
    "voicing_alt = voicing.copy()\n",
    "# remove a count from homorganic + T-D=Yes\n",
    "voicing_alt.iloc[0,1] = 0\n",
    "# add a count to homorganic + T-D=No\n",
    "voicing_alt.iloc[0,0] += 1\n",
    "\n",
    "voicing_alt"
   ]
  },
  {
   "cell_type": "markdown",
   "metadata": {},
   "source": [
    "### Nasal Agreement\n",
    "\n"
   ]
  },
  {
   "cell_type": "code",
   "execution_count": 20,
   "metadata": {},
   "outputs": [
    {
     "output_type": "execute_result",
     "data": {
      "text/plain": [
       "N-ND             No  Yes\n",
       "Homorganic              \n",
       "homorganic      203    1\n",
       "non-homorganic  667    9"
      ],
      "text/html": "<div>\n<style scoped>\n    .dataframe tbody tr th:only-of-type {\n        vertical-align: middle;\n    }\n\n    .dataframe tbody tr th {\n        vertical-align: top;\n    }\n\n    .dataframe thead th {\n        text-align: right;\n    }\n</style>\n<table border=\"1\" class=\"dataframe\">\n  <thead>\n    <tr style=\"text-align: right;\">\n      <th>N-ND</th>\n      <th>No</th>\n      <th>Yes</th>\n    </tr>\n    <tr>\n      <th>Homorganic</th>\n      <th></th>\n      <th></th>\n    </tr>\n  </thead>\n  <tbody>\n    <tr>\n      <th>homorganic</th>\n      <td>203</td>\n      <td>1</td>\n    </tr>\n    <tr>\n      <th>non-homorganic</th>\n      <td>667</td>\n      <td>9</td>\n    </tr>\n  </tbody>\n</table>\n</div>"
     },
     "metadata": {},
     "execution_count": 20
    }
   ],
   "source": [
    "nasality = pd.crosstab(df['Homorganic'],\n",
    "                    df['N-ND'])\n",
    "\n",
    "nasality"
   ]
  },
  {
   "cell_type": "code",
   "execution_count": 21,
   "metadata": {},
   "outputs": [
    {
     "output_type": "execute_result",
     "data": {
      "text/plain": [
       "       ID    IPA   POS Alt form                         Def\n",
       "490  3031  ndànà  (s.)      NaN  mal aux reins. Lendenpijn."
      ],
      "text/html": "<div>\n<style scoped>\n    .dataframe tbody tr th:only-of-type {\n        vertical-align: middle;\n    }\n\n    .dataframe tbody tr th {\n        vertical-align: top;\n    }\n\n    .dataframe thead th {\n        text-align: right;\n    }\n</style>\n<table border=\"1\" class=\"dataframe\">\n  <thead>\n    <tr style=\"text-align: right;\">\n      <th></th>\n      <th>ID</th>\n      <th>IPA</th>\n      <th>POS</th>\n      <th>Alt form</th>\n      <th>Def</th>\n    </tr>\n  </thead>\n  <tbody>\n    <tr>\n      <th>490</th>\n      <td>3031</td>\n      <td>ndànà</td>\n      <td>(s.)</td>\n      <td>NaN</td>\n      <td>mal aux reins. Lendenpijn.</td>\n    </tr>\n  </tbody>\n</table>\n</div>"
     },
     "metadata": {},
     "execution_count": 21
    }
   ],
   "source": [
    "df[['ID','IPA','POS','Alt form','Def']].loc[(df['N-ND'] == 'Yes') & (df['Homorganic'] == 'homorganic')]"
   ]
  },
  {
   "cell_type": "code",
   "execution_count": 22,
   "metadata": {},
   "outputs": [
    {
     "output_type": "execute_result",
     "data": {
      "text/plain": [
       "D-ND             No  Yes\n",
       "Homorganic              \n",
       "homorganic      196    8\n",
       "non-homorganic  653   23"
      ],
      "text/html": "<div>\n<style scoped>\n    .dataframe tbody tr th:only-of-type {\n        vertical-align: middle;\n    }\n\n    .dataframe tbody tr th {\n        vertical-align: top;\n    }\n\n    .dataframe thead th {\n        text-align: right;\n    }\n</style>\n<table border=\"1\" class=\"dataframe\">\n  <thead>\n    <tr style=\"text-align: right;\">\n      <th>D-ND</th>\n      <th>No</th>\n      <th>Yes</th>\n    </tr>\n    <tr>\n      <th>Homorganic</th>\n      <th></th>\n      <th></th>\n    </tr>\n  </thead>\n  <tbody>\n    <tr>\n      <th>homorganic</th>\n      <td>196</td>\n      <td>8</td>\n    </tr>\n    <tr>\n      <th>non-homorganic</th>\n      <td>653</td>\n      <td>23</td>\n    </tr>\n  </tbody>\n</table>\n</div>"
     },
     "metadata": {},
     "execution_count": 22
    }
   ],
   "source": [
    "prenasality = pd.crosstab(df['Homorganic'],\n",
    "                    df['D-ND'])\n",
    "\n",
    "prenasality"
   ]
  },
  {
   "cell_type": "code",
   "execution_count": 23,
   "metadata": {},
   "outputs": [
    {
     "output_type": "execute_result",
     "data": {
      "text/plain": [
       "       ID       IPA   POS Alt form  \\\n",
       "9    2076    bàmbú  (s.)      NaN   \n",
       "110  2264   dɔ̀ndɔ̀  (s.)      NaN   \n",
       "170  2393    gàŋga̍  (s.)      NaN   \n",
       "188  2435    gbàŋbà  (s.)      NaN   \n",
       "204  2466  gbo̍ŋbo̍  (s.)      NaN   \n",
       "236  2529   gɔ̀ŋgɔ̀  (s.)      NaN   \n",
       "454  2951   mbɔ́bì  (s.)      NaN   \n",
       "868  2198   dándèà  (s.)      NaN   \n",
       "\n",
       "                                                   Def  \n",
       "9    ceinture large des mVres aprVs l’enfantement. ...  \n",
       "110        surface glissante. Gladheid, glibberigheid.  \n",
       "170                      crochet, barbillon. Weerhaak.  \n",
       "188  piVge avec poids écrasant l’animal ou fermant ...  \n",
       "204                                      rigole. Geul.  \n",
       "236                                             #NAME?  \n",
       "454   : rotin mince dônnant des liens forts. Dunne ...  \n",
       "868   petite hirondelle noire. Gewone zwarte holenz...  "
      ],
      "text/html": "<div>\n<style scoped>\n    .dataframe tbody tr th:only-of-type {\n        vertical-align: middle;\n    }\n\n    .dataframe tbody tr th {\n        vertical-align: top;\n    }\n\n    .dataframe thead th {\n        text-align: right;\n    }\n</style>\n<table border=\"1\" class=\"dataframe\">\n  <thead>\n    <tr style=\"text-align: right;\">\n      <th></th>\n      <th>ID</th>\n      <th>IPA</th>\n      <th>POS</th>\n      <th>Alt form</th>\n      <th>Def</th>\n    </tr>\n  </thead>\n  <tbody>\n    <tr>\n      <th>9</th>\n      <td>2076</td>\n      <td>bàmbú</td>\n      <td>(s.)</td>\n      <td>NaN</td>\n      <td>ceinture large des mVres aprVs l’enfantement. ...</td>\n    </tr>\n    <tr>\n      <th>110</th>\n      <td>2264</td>\n      <td>dɔ̀ndɔ̀</td>\n      <td>(s.)</td>\n      <td>NaN</td>\n      <td>surface glissante. Gladheid, glibberigheid.</td>\n    </tr>\n    <tr>\n      <th>170</th>\n      <td>2393</td>\n      <td>gàŋga̍</td>\n      <td>(s.)</td>\n      <td>NaN</td>\n      <td>crochet, barbillon. Weerhaak.</td>\n    </tr>\n    <tr>\n      <th>188</th>\n      <td>2435</td>\n      <td>gbàŋbà</td>\n      <td>(s.)</td>\n      <td>NaN</td>\n      <td>piVge avec poids écrasant l’animal ou fermant ...</td>\n    </tr>\n    <tr>\n      <th>204</th>\n      <td>2466</td>\n      <td>gbo̍ŋbo̍</td>\n      <td>(s.)</td>\n      <td>NaN</td>\n      <td>rigole. Geul.</td>\n    </tr>\n    <tr>\n      <th>236</th>\n      <td>2529</td>\n      <td>gɔ̀ŋgɔ̀</td>\n      <td>(s.)</td>\n      <td>NaN</td>\n      <td>#NAME?</td>\n    </tr>\n    <tr>\n      <th>454</th>\n      <td>2951</td>\n      <td>mbɔ́bì</td>\n      <td>(s.)</td>\n      <td>NaN</td>\n      <td>: rotin mince dônnant des liens forts. Dunne ...</td>\n    </tr>\n    <tr>\n      <th>868</th>\n      <td>2198</td>\n      <td>dándèà</td>\n      <td>(s.)</td>\n      <td>NaN</td>\n      <td>petite hirondelle noire. Gewone zwarte holenz...</td>\n    </tr>\n  </tbody>\n</table>\n</div>"
     },
     "metadata": {},
     "execution_count": 23
    }
   ],
   "source": [
    "df[['ID','IPA','POS','Alt form','Def']].loc[(df['D-ND'] == 'Yes') & (df['Homorganic'] == 'homorganic')]"
   ]
  },
  {
   "cell_type": "markdown",
   "metadata": {},
   "source": [
    "### Results"
   ]
  },
  {
   "cell_type": "code",
   "execution_count": 24,
   "metadata": {},
   "outputs": [
    {
     "output_type": "stream",
     "name": "stdout",
     "text": [
      "alpha of 0.05 adjusted for 8 comparisons = 0.0167\n"
     ]
    },
    {
     "output_type": "execute_result",
     "data": {
      "text/plain": [
       "<pandas.io.formats.style.Styler at 0x2869b430148>"
      ],
      "text/html": "<style  type=\"text/css\" >\n#T_2e79d_row0_col1,#T_2e79d_row0_col2,#T_2e79d_row0_col3,#T_2e79d_row0_col4,#T_2e79d_row0_col5,#T_2e79d_row0_col6,#T_2e79d_row1_col2,#T_2e79d_row1_col4,#T_2e79d_row1_col5,#T_2e79d_row2_col1,#T_2e79d_row2_col2,#T_2e79d_row2_col3,#T_2e79d_row2_col4,#T_2e79d_row2_col5,#T_2e79d_row2_col6,#T_2e79d_row3_col1,#T_2e79d_row3_col2,#T_2e79d_row3_col3,#T_2e79d_row3_col4,#T_2e79d_row3_col5,#T_2e79d_row3_col6{\n            background-color:  #fff5f0;\n            color:  #000000;\n        }#T_2e79d_row1_col1,#T_2e79d_row1_col6{\n            background-color:  #67000d;\n            color:  #f1f1f1;\n        }#T_2e79d_row1_col3{\n            background-color:  #c8171c;\n            color:  #f1f1f1;\n        }</style><table id=\"T_2e79d_\" ><thead>    <tr>        <th class=\"blank level0\" ></th>        <th class=\"col_heading level0 col0\" >restriction</th>        <th class=\"col_heading level0 col1\" >obs</th>        <th class=\"col_heading level0 col2\" >exp</th>        <th class=\"col_heading level0 col3\" >fisher p</th>        <th class=\"col_heading level0 col4\" >chi^2 p</th>        <th class=\"col_heading level0 col5\" >alpha</th>        <th class=\"col_heading level0 col6\" >o/e</th>        <th class=\"col_heading level0 col7\" >fisher sig</th>        <th class=\"col_heading level0 col8\" >chi^2 sig</th>    </tr></thead><tbody>\n                <tr>\n                        <th id=\"T_2e79d_level0_row0\" class=\"row_heading level0 row0\" >0</th>\n                        <td id=\"T_2e79d_row0_col0\" class=\"data row0 col0\" >Voicing Agreement</td>\n                        <td id=\"T_2e79d_row0_col1\" class=\"data row0 col1\" >1</td>\n                        <td id=\"T_2e79d_row0_col2\" class=\"data row0 col2\" >5.331818</td>\n                        <td id=\"T_2e79d_row0_col3\" class=\"data row0 col3\" >0.024894</td>\n                        <td id=\"T_2e79d_row0_col4\" class=\"data row0 col4\" >0.055034</td>\n                        <td id=\"T_2e79d_row0_col5\" class=\"data row0 col5\" >0.016667</td>\n                        <td id=\"T_2e79d_row0_col6\" class=\"data row0 col6\" >0.187553</td>\n                        <td id=\"T_2e79d_row0_col7\" class=\"data row0 col7\" >False</td>\n                        <td id=\"T_2e79d_row0_col8\" class=\"data row0 col8\" >False</td>\n            </tr>\n            <tr>\n                        <th id=\"T_2e79d_level0_row1\" class=\"row_heading level0 row1\" >1</th>\n                        <td id=\"T_2e79d_row1_col0\" class=\"data row1 col0\" >Voicing Agreement (alt)</td>\n                        <td id=\"T_2e79d_row1_col1\" class=\"data row1 col1\" >0</td>\n                        <td id=\"T_2e79d_row1_col2\" class=\"data row1 col2\" >5.100000</td>\n                        <td id=\"T_2e79d_row1_col3\" class=\"data row1 col3\" >0.004027</td>\n                        <td id=\"T_2e79d_row1_col4\" class=\"data row1 col4\" >0.018591</td>\n                        <td id=\"T_2e79d_row1_col5\" class=\"data row1 col5\" >0.016667</td>\n                        <td id=\"T_2e79d_row1_col6\" class=\"data row1 col6\" >0.000000</td>\n                        <td id=\"T_2e79d_row1_col7\" class=\"data row1 col7\" >True</td>\n                        <td id=\"T_2e79d_row1_col8\" class=\"data row1 col8\" >False</td>\n            </tr>\n            <tr>\n                        <th id=\"T_2e79d_level0_row2\" class=\"row_heading level0 row2\" >2</th>\n                        <td id=\"T_2e79d_row2_col0\" class=\"data row2 col0\" >N-ND Agreement</td>\n                        <td id=\"T_2e79d_row2_col1\" class=\"data row2 col1\" >1</td>\n                        <td id=\"T_2e79d_row2_col2\" class=\"data row2 col2\" >2.318182</td>\n                        <td id=\"T_2e79d_row2_col3\" class=\"data row2 col3\" >0.468088</td>\n                        <td id=\"T_2e79d_row2_col4\" class=\"data row2 col4\" >0.537478</td>\n                        <td id=\"T_2e79d_row2_col5\" class=\"data row2 col5\" >0.016667</td>\n                        <td id=\"T_2e79d_row2_col6\" class=\"data row2 col6\" >0.431373</td>\n                        <td id=\"T_2e79d_row2_col7\" class=\"data row2 col7\" >False</td>\n                        <td id=\"T_2e79d_row2_col8\" class=\"data row2 col8\" >False</td>\n            </tr>\n            <tr>\n                        <th id=\"T_2e79d_level0_row3\" class=\"row_heading level0 row3\" >3</th>\n                        <td id=\"T_2e79d_row3_col0\" class=\"data row3 col0\" >D-ND Agreement</td>\n                        <td id=\"T_2e79d_row3_col1\" class=\"data row3 col1\" >8</td>\n                        <td id=\"T_2e79d_row3_col2\" class=\"data row3 col2\" >7.186364</td>\n                        <td id=\"T_2e79d_row3_col3\" class=\"data row3 col3\" >0.670087</td>\n                        <td id=\"T_2e79d_row3_col4\" class=\"data row3 col4\" >0.891898</td>\n                        <td id=\"T_2e79d_row3_col5\" class=\"data row3 col5\" >0.016667</td>\n                        <td id=\"T_2e79d_row3_col6\" class=\"data row3 col6\" >1.113219</td>\n                        <td id=\"T_2e79d_row3_col7\" class=\"data row3 col7\" >False</td>\n                        <td id=\"T_2e79d_row3_col8\" class=\"data row3 col8\" >False</td>\n            </tr>\n    </tbody></table>"
     },
     "metadata": {},
     "execution_count": 24
    }
   ],
   "source": [
    "# this will test all homorganic and semihomorganic place combinations against each other\n",
    "voi_nas_combos = {'Voicing Agreement' : voicing, \n",
    "                  'Voicing Agreement (alt)' : voicing_alt,\n",
    "                  'N-ND Agreement' : nasality, \n",
    "                  'D-ND Agreement' : prenasality}\n",
    "\n",
    "comparisons = len(voi_nas_combos) - 1\n",
    "alpha = 0.05/comparisons\n",
    "\n",
    "results = defaultdict(list)\n",
    "\n",
    "for name, table in voi_nas_combos.items():\n",
    "    obs = table.to_numpy()\n",
    "    fisher_results = stats.fisher_exact(obs)\n",
    "    chi_results = stats.chi2_contingency(obs)\n",
    "    results['restriction'].append(name)\n",
    "    results['obs'].append(obs[0,1])\n",
    "    results['exp'].append(chi_results[3][0,1])\n",
    "    results['fisher p'].append(fisher_results[1])\n",
    "    results['chi^2 p'].append(chi_results[1])\n",
    "    results['alpha'].append(alpha)\n",
    "    \n",
    "voi_nas_results = pd.DataFrame(results)\n",
    "voi_nas_results['o/e'] = voi_nas_results['obs'] / voi_nas_results['exp'] \n",
    "voi_nas_results['fisher sig'] = voi_nas_results['fisher p'].apply(lambda x: True if x < alpha else False)\n",
    "voi_nas_results['chi^2 sig'] = voi_nas_results['chi^2 p'].apply(lambda x: True if x < alpha else False)\n",
    "\n",
    "print(f\"alpha of 0.05 adjusted for {len(combos)} comparisons = {np.round(alpha,4)}\")\n",
    "voi_nas_results.style.background_gradient(cmap ='Reds_r',axis=None,vmax=alpha)"
   ]
  }
 ],
 "metadata": {
  "kernelspec": {
   "name": "python37664bit8ebcdbbb0f8548a88014d2138d5dd4f5",
   "display_name": "Python 3.7.6 64-bit"
  },
  "language_info": {
   "codemirror_mode": {
    "name": "ipython",
    "version": 3
   },
   "file_extension": ".py",
   "mimetype": "text/x-python",
   "name": "python",
   "nbconvert_exporter": "python",
   "pygments_lexer": "ipython3",
   "version": "3.7.6"
  },
  "metadata": {
   "interpreter": {
    "hash": "89550c41512397be3b92a88a74e3b1e8549c4151dd6ce085be64a8e2e8a2e248"
   }
  }
 },
 "nbformat": 4,
 "nbformat_minor": 4
}